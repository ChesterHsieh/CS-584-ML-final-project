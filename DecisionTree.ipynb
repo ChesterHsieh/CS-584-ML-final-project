{
 "cells": [
  {
   "cell_type": "markdown",
   "metadata": {
    "deletable": true,
    "editable": true
   },
   "source": [
    "Here is the first Part =\n",
    "\n",
    "Part 0 Initial\n",
    "---------------------\n",
    "\n",
    "\n",
    "Readi file into pandas datafrme"
   ]
  },
  {
   "cell_type": "code",
   "execution_count": 1,
   "metadata": {
    "collapsed": true,
    "deletable": true,
    "editable": true
   },
   "outputs": [],
   "source": [
    "from sklearn.tree import DecisionTreeClassifier\n",
    "from sklearn.tree import export_graphviz\n",
    "import pandas as pd\n",
    "import numpy as np\n",
    "import os\n",
    "from sklearn import tree\n",
    "from IPython.display import Image  \n",
    "from sklearn.model_selection import cross_val_score\n",
    "from sklearn.metrics import accuracy_score\n",
    "import pydotplus\n",
    "from  sklearn.linear_model import LinearRegression\n",
    "from sklearn.model_selection import validation_curve\n",
    "from sklearn import linear_model\n",
    "import matplotlib.pyplot as plt\n",
    "from sklearn.naive_bayes import GaussianNB\n",
    "from sklearn.preprocessing import PolynomialFeatures\n",
    "from sklearn.preprocessing import Imputer\n",
    "from sklearn.ensemble import RandomForestClassifier\n",
    "from sklearn import svm\n",
    "\n",
    "\n",
    "%matplotlib inline\n",
    "dicPath = os.getcwd()\n",
    "dicPathClean = os.path.join(dicPath,'Crime Prediction Data','communities-crime-clean.csv')\n",
    "dicPathDirty = os.path.join(dicPath,'Crime Prediction Data','communities-crime-full.csv')"
   ]
  },
  {
   "cell_type": "code",
   "execution_count": 2,
   "metadata": {
    "collapsed": true,
    "deletable": true,
    "editable": true
   },
   "outputs": [],
   "source": [
    "df=pd.read_csv(dicPathClean)\n",
    "dfd = pd.read_csv(dicPathDirty)\n",
    "df['highCrime'] = np.where(df['ViolentCrimesPerPop']>0.1, 1, 0)"
   ]
  },
  {
   "cell_type": "markdown",
   "metadata": {
    "deletable": true,
    "editable": true
   },
   "source": [
    "Over view for the data\n",
    "Part I Explore world\n",
    "-----------------"
   ]
  },
  {
   "cell_type": "code",
   "execution_count": 3,
   "metadata": {
    "collapsed": false,
    "deletable": true,
    "editable": true
   },
   "outputs": [
    {
     "data": {
      "text/plain": [
       "(1993, 105)"
      ]
     },
     "execution_count": 3,
     "metadata": {},
     "output_type": "execute_result"
    }
   ],
   "source": [
    "df.shape"
   ]
  },
  {
   "cell_type": "markdown",
   "metadata": {},
   "source": [
    "#### Train and Test features:\n"
   ]
  },
  {
   "cell_type": "code",
   "execution_count": 30,
   "metadata": {
    "collapsed": true
   },
   "outputs": [],
   "source": [
    "X = df.drop('ViolentCrimesPerPop',1).drop('highCrime',1).drop('communityname',1).drop('state',1).drop('fold',1)\n",
    "y = df['highCrime']"
   ]
  },
  {
   "cell_type": "code",
   "execution_count": 33,
   "metadata": {
    "collapsed": false,
    "deletable": true,
    "editable": true
   },
   "outputs": [
    {
     "data": {
      "text/html": [
       "<div>\n",
       "<table border=\"1\" class=\"dataframe\">\n",
       "  <thead>\n",
       "    <tr style=\"text-align: right;\">\n",
       "      <th></th>\n",
       "      <th>state</th>\n",
       "      <th>county</th>\n",
       "      <th>community</th>\n",
       "      <th>communityname</th>\n",
       "      <th>fold</th>\n",
       "      <th>population</th>\n",
       "      <th>householdsize</th>\n",
       "      <th>racepctblack</th>\n",
       "      <th>racePctWhite</th>\n",
       "      <th>racePctAsian</th>\n",
       "      <th>...</th>\n",
       "      <th>LandArea</th>\n",
       "      <th>PopDens</th>\n",
       "      <th>PctUsePubTrans</th>\n",
       "      <th>PolicCars</th>\n",
       "      <th>PolicOperBudg</th>\n",
       "      <th>LemasPctPolicOnPatr</th>\n",
       "      <th>LemasGangUnitDeploy</th>\n",
       "      <th>LemasPctOfficDrugUn</th>\n",
       "      <th>PolicBudgPerPop</th>\n",
       "      <th>ViolentCrimesPerPop</th>\n",
       "    </tr>\n",
       "  </thead>\n",
       "  <tbody>\n",
       "    <tr>\n",
       "      <th>0</th>\n",
       "      <td>8</td>\n",
       "      <td>?</td>\n",
       "      <td>?</td>\n",
       "      <td>Lakewoodcity</td>\n",
       "      <td>1</td>\n",
       "      <td>0.19</td>\n",
       "      <td>0.33</td>\n",
       "      <td>0.02</td>\n",
       "      <td>0.90</td>\n",
       "      <td>0.12</td>\n",
       "      <td>...</td>\n",
       "      <td>0.12</td>\n",
       "      <td>0.26</td>\n",
       "      <td>0.20</td>\n",
       "      <td>0.06</td>\n",
       "      <td>0.04</td>\n",
       "      <td>0.9</td>\n",
       "      <td>0.5</td>\n",
       "      <td>0.32</td>\n",
       "      <td>0.14</td>\n",
       "      <td>0.20</td>\n",
       "    </tr>\n",
       "    <tr>\n",
       "      <th>1</th>\n",
       "      <td>53</td>\n",
       "      <td>?</td>\n",
       "      <td>?</td>\n",
       "      <td>Tukwilacity</td>\n",
       "      <td>1</td>\n",
       "      <td>0.00</td>\n",
       "      <td>0.16</td>\n",
       "      <td>0.12</td>\n",
       "      <td>0.74</td>\n",
       "      <td>0.45</td>\n",
       "      <td>...</td>\n",
       "      <td>0.02</td>\n",
       "      <td>0.12</td>\n",
       "      <td>0.45</td>\n",
       "      <td>?</td>\n",
       "      <td>?</td>\n",
       "      <td>?</td>\n",
       "      <td>?</td>\n",
       "      <td>0.00</td>\n",
       "      <td>?</td>\n",
       "      <td>0.67</td>\n",
       "    </tr>\n",
       "    <tr>\n",
       "      <th>2</th>\n",
       "      <td>24</td>\n",
       "      <td>?</td>\n",
       "      <td>?</td>\n",
       "      <td>Aberdeentown</td>\n",
       "      <td>1</td>\n",
       "      <td>0.00</td>\n",
       "      <td>0.42</td>\n",
       "      <td>0.49</td>\n",
       "      <td>0.56</td>\n",
       "      <td>0.17</td>\n",
       "      <td>...</td>\n",
       "      <td>0.01</td>\n",
       "      <td>0.21</td>\n",
       "      <td>0.02</td>\n",
       "      <td>?</td>\n",
       "      <td>?</td>\n",
       "      <td>?</td>\n",
       "      <td>?</td>\n",
       "      <td>0.00</td>\n",
       "      <td>?</td>\n",
       "      <td>0.43</td>\n",
       "    </tr>\n",
       "    <tr>\n",
       "      <th>3</th>\n",
       "      <td>34</td>\n",
       "      <td>5</td>\n",
       "      <td>81440</td>\n",
       "      <td>Willingborotownship</td>\n",
       "      <td>1</td>\n",
       "      <td>0.04</td>\n",
       "      <td>0.77</td>\n",
       "      <td>1.00</td>\n",
       "      <td>0.08</td>\n",
       "      <td>0.12</td>\n",
       "      <td>...</td>\n",
       "      <td>0.02</td>\n",
       "      <td>0.39</td>\n",
       "      <td>0.28</td>\n",
       "      <td>?</td>\n",
       "      <td>?</td>\n",
       "      <td>?</td>\n",
       "      <td>?</td>\n",
       "      <td>0.00</td>\n",
       "      <td>?</td>\n",
       "      <td>0.12</td>\n",
       "    </tr>\n",
       "    <tr>\n",
       "      <th>4</th>\n",
       "      <td>42</td>\n",
       "      <td>95</td>\n",
       "      <td>6096</td>\n",
       "      <td>Bethlehemtownship</td>\n",
       "      <td>1</td>\n",
       "      <td>0.01</td>\n",
       "      <td>0.55</td>\n",
       "      <td>0.02</td>\n",
       "      <td>0.95</td>\n",
       "      <td>0.09</td>\n",
       "      <td>...</td>\n",
       "      <td>0.04</td>\n",
       "      <td>0.09</td>\n",
       "      <td>0.02</td>\n",
       "      <td>?</td>\n",
       "      <td>?</td>\n",
       "      <td>?</td>\n",
       "      <td>?</td>\n",
       "      <td>0.00</td>\n",
       "      <td>?</td>\n",
       "      <td>0.03</td>\n",
       "    </tr>\n",
       "  </tbody>\n",
       "</table>\n",
       "<p>5 rows × 128 columns</p>\n",
       "</div>"
      ],
      "text/plain": [
       "   state county community        communityname  fold  population  \\\n",
       "0      8      ?         ?         Lakewoodcity     1        0.19   \n",
       "1     53      ?         ?          Tukwilacity     1        0.00   \n",
       "2     24      ?         ?         Aberdeentown     1        0.00   \n",
       "3     34      5     81440  Willingborotownship     1        0.04   \n",
       "4     42     95      6096    Bethlehemtownship     1        0.01   \n",
       "\n",
       "   householdsize  racepctblack  racePctWhite  racePctAsian  \\\n",
       "0           0.33          0.02          0.90          0.12   \n",
       "1           0.16          0.12          0.74          0.45   \n",
       "2           0.42          0.49          0.56          0.17   \n",
       "3           0.77          1.00          0.08          0.12   \n",
       "4           0.55          0.02          0.95          0.09   \n",
       "\n",
       "          ...           LandArea  PopDens  PctUsePubTrans  PolicCars  \\\n",
       "0         ...               0.12     0.26            0.20       0.06   \n",
       "1         ...               0.02     0.12            0.45          ?   \n",
       "2         ...               0.01     0.21            0.02          ?   \n",
       "3         ...               0.02     0.39            0.28          ?   \n",
       "4         ...               0.04     0.09            0.02          ?   \n",
       "\n",
       "   PolicOperBudg  LemasPctPolicOnPatr  LemasGangUnitDeploy  \\\n",
       "0           0.04                  0.9                  0.5   \n",
       "1              ?                    ?                    ?   \n",
       "2              ?                    ?                    ?   \n",
       "3              ?                    ?                    ?   \n",
       "4              ?                    ?                    ?   \n",
       "\n",
       "   LemasPctOfficDrugUn  PolicBudgPerPop  ViolentCrimesPerPop  \n",
       "0                 0.32             0.14                 0.20  \n",
       "1                 0.00                ?                 0.67  \n",
       "2                 0.00                ?                 0.43  \n",
       "3                 0.00                ?                 0.12  \n",
       "4                 0.00                ?                 0.03  \n",
       "\n",
       "[5 rows x 128 columns]"
      ]
     },
     "execution_count": 33,
     "metadata": {},
     "output_type": "execute_result"
    }
   ],
   "source": [
    "dfd.head()"
   ]
  },
  {
   "cell_type": "markdown",
   "metadata": {
    "deletable": true,
    "editable": true
   },
   "source": [
    "# Here is gonna to explore the dirty data of example is the same, however, the columns aren't not => check which feature is missing"
   ]
  },
  {
   "cell_type": "code",
   "execution_count": 34,
   "metadata": {
    "collapsed": false,
    "deletable": true,
    "editable": true
   },
   "outputs": [
    {
     "data": {
      "text/plain": [
       "array(['LemasGangUnitDeploy', 'LemasPctPolicOnPatr', 'LemasSwFTFieldOps',\n",
       "       'LemasSwFTFieldPerPop', 'LemasSwFTPerPop', 'LemasSwornFT',\n",
       "       'LemasTotReqPerPop', 'LemasTotalReq', 'NumKindsDrugsSeiz',\n",
       "       'OfficAssgnDrugUnits', 'OtherPerCap', 'PctPolicAsian',\n",
       "       'PctPolicBlack', 'PctPolicHisp', 'PctPolicMinor', 'PctPolicWhite',\n",
       "       'PolicAveOTWorked', 'PolicBudgPerPop', 'PolicCars', 'PolicOperBudg',\n",
       "       'PolicPerPop', 'PolicReqPerOffic', 'RacialMatchCommPol',\n",
       "       'community', 'communityname', 'county'], dtype=object)"
      ]
     },
     "execution_count": 34,
     "metadata": {},
     "output_type": "execute_result"
    }
   ],
   "source": [
    "ls_col_desc_dfd = np.array(dfd.describe().columns)\n",
    "ls_col_head_dfd = np.array(dfd.head().columns)\n",
    "np.intersect1d(ls_col_desc_dfd,ls_col_head_dfd)\n",
    "np.setdiff1d(ls_col_head_dfd,ls_col_desc_dfd)# so diffent set :) so convinenance"
   ]
  },
  {
   "cell_type": "code",
   "execution_count": 35,
   "metadata": {
    "collapsed": false,
    "deletable": true,
    "editable": true,
    "scrolled": true
   },
   "outputs": [
    {
     "data": {
      "text/html": [
       "<div>\n",
       "<table border=\"1\" class=\"dataframe\">\n",
       "  <thead>\n",
       "    <tr style=\"text-align: right;\">\n",
       "      <th></th>\n",
       "      <th>state</th>\n",
       "      <th>fold</th>\n",
       "      <th>population</th>\n",
       "      <th>householdsize</th>\n",
       "      <th>racepctblack</th>\n",
       "      <th>racePctWhite</th>\n",
       "      <th>racePctAsian</th>\n",
       "      <th>racePctHisp</th>\n",
       "      <th>agePct12t21</th>\n",
       "      <th>agePct12t29</th>\n",
       "      <th>...</th>\n",
       "      <th>PctBornSameState</th>\n",
       "      <th>PctSameHouse85</th>\n",
       "      <th>PctSameCity85</th>\n",
       "      <th>PctSameState85</th>\n",
       "      <th>LandArea</th>\n",
       "      <th>PopDens</th>\n",
       "      <th>PctUsePubTrans</th>\n",
       "      <th>LemasPctOfficDrugUn</th>\n",
       "      <th>ViolentCrimesPerPop</th>\n",
       "      <th>highCrime</th>\n",
       "    </tr>\n",
       "  </thead>\n",
       "  <tbody>\n",
       "    <tr>\n",
       "      <th>count</th>\n",
       "      <td>1993.000000</td>\n",
       "      <td>1993.000000</td>\n",
       "      <td>1993.000000</td>\n",
       "      <td>1993.000000</td>\n",
       "      <td>1993.000000</td>\n",
       "      <td>1993.000000</td>\n",
       "      <td>1993.000000</td>\n",
       "      <td>1993.000000</td>\n",
       "      <td>1993.000000</td>\n",
       "      <td>1993.000000</td>\n",
       "      <td>...</td>\n",
       "      <td>1993.000000</td>\n",
       "      <td>1993.000000</td>\n",
       "      <td>1993.000000</td>\n",
       "      <td>1993.000000</td>\n",
       "      <td>1993.000000</td>\n",
       "      <td>1993.000000</td>\n",
       "      <td>1993.000000</td>\n",
       "      <td>1993.000000</td>\n",
       "      <td>1993.000000</td>\n",
       "      <td>1993.000000</td>\n",
       "    </tr>\n",
       "    <tr>\n",
       "      <th>mean</th>\n",
       "      <td>28.683894</td>\n",
       "      <td>5.496237</td>\n",
       "      <td>0.057612</td>\n",
       "      <td>0.463437</td>\n",
       "      <td>0.179227</td>\n",
       "      <td>0.753984</td>\n",
       "      <td>0.153753</td>\n",
       "      <td>0.144089</td>\n",
       "      <td>0.424210</td>\n",
       "      <td>0.493914</td>\n",
       "      <td>...</td>\n",
       "      <td>0.608776</td>\n",
       "      <td>0.534967</td>\n",
       "      <td>0.626322</td>\n",
       "      <td>0.651470</td>\n",
       "      <td>0.065243</td>\n",
       "      <td>0.232910</td>\n",
       "      <td>0.161741</td>\n",
       "      <td>0.094099</td>\n",
       "      <td>0.237983</td>\n",
       "      <td>0.627195</td>\n",
       "    </tr>\n",
       "    <tr>\n",
       "      <th>std</th>\n",
       "      <td>16.401661</td>\n",
       "      <td>2.872650</td>\n",
       "      <td>0.126935</td>\n",
       "      <td>0.163747</td>\n",
       "      <td>0.252870</td>\n",
       "      <td>0.243807</td>\n",
       "      <td>0.208905</td>\n",
       "      <td>0.232531</td>\n",
       "      <td>0.155234</td>\n",
       "      <td>0.143584</td>\n",
       "      <td>...</td>\n",
       "      <td>0.204314</td>\n",
       "      <td>0.181360</td>\n",
       "      <td>0.200520</td>\n",
       "      <td>0.198253</td>\n",
       "      <td>0.109485</td>\n",
       "      <td>0.203127</td>\n",
       "      <td>0.229099</td>\n",
       "      <td>0.240379</td>\n",
       "      <td>0.233043</td>\n",
       "      <td>0.483672</td>\n",
       "    </tr>\n",
       "    <tr>\n",
       "      <th>min</th>\n",
       "      <td>1.000000</td>\n",
       "      <td>1.000000</td>\n",
       "      <td>0.000000</td>\n",
       "      <td>0.000000</td>\n",
       "      <td>0.000000</td>\n",
       "      <td>0.000000</td>\n",
       "      <td>0.000000</td>\n",
       "      <td>0.000000</td>\n",
       "      <td>0.000000</td>\n",
       "      <td>0.000000</td>\n",
       "      <td>...</td>\n",
       "      <td>0.000000</td>\n",
       "      <td>0.000000</td>\n",
       "      <td>0.000000</td>\n",
       "      <td>0.000000</td>\n",
       "      <td>0.000000</td>\n",
       "      <td>0.000000</td>\n",
       "      <td>0.000000</td>\n",
       "      <td>0.000000</td>\n",
       "      <td>0.000000</td>\n",
       "      <td>0.000000</td>\n",
       "    </tr>\n",
       "    <tr>\n",
       "      <th>25%</th>\n",
       "      <td>12.000000</td>\n",
       "      <td>3.000000</td>\n",
       "      <td>0.010000</td>\n",
       "      <td>0.350000</td>\n",
       "      <td>0.020000</td>\n",
       "      <td>0.630000</td>\n",
       "      <td>0.040000</td>\n",
       "      <td>0.010000</td>\n",
       "      <td>0.340000</td>\n",
       "      <td>0.410000</td>\n",
       "      <td>...</td>\n",
       "      <td>0.470000</td>\n",
       "      <td>0.420000</td>\n",
       "      <td>0.520000</td>\n",
       "      <td>0.560000</td>\n",
       "      <td>0.020000</td>\n",
       "      <td>0.100000</td>\n",
       "      <td>0.020000</td>\n",
       "      <td>0.000000</td>\n",
       "      <td>0.070000</td>\n",
       "      <td>0.000000</td>\n",
       "    </tr>\n",
       "    <tr>\n",
       "      <th>50%</th>\n",
       "      <td>34.000000</td>\n",
       "      <td>5.000000</td>\n",
       "      <td>0.020000</td>\n",
       "      <td>0.440000</td>\n",
       "      <td>0.060000</td>\n",
       "      <td>0.850000</td>\n",
       "      <td>0.070000</td>\n",
       "      <td>0.040000</td>\n",
       "      <td>0.400000</td>\n",
       "      <td>0.480000</td>\n",
       "      <td>...</td>\n",
       "      <td>0.630000</td>\n",
       "      <td>0.540000</td>\n",
       "      <td>0.670000</td>\n",
       "      <td>0.700000</td>\n",
       "      <td>0.040000</td>\n",
       "      <td>0.170000</td>\n",
       "      <td>0.070000</td>\n",
       "      <td>0.000000</td>\n",
       "      <td>0.150000</td>\n",
       "      <td>1.000000</td>\n",
       "    </tr>\n",
       "    <tr>\n",
       "      <th>75%</th>\n",
       "      <td>42.000000</td>\n",
       "      <td>8.000000</td>\n",
       "      <td>0.050000</td>\n",
       "      <td>0.540000</td>\n",
       "      <td>0.230000</td>\n",
       "      <td>0.940000</td>\n",
       "      <td>0.170000</td>\n",
       "      <td>0.160000</td>\n",
       "      <td>0.470000</td>\n",
       "      <td>0.540000</td>\n",
       "      <td>...</td>\n",
       "      <td>0.770000</td>\n",
       "      <td>0.660000</td>\n",
       "      <td>0.770000</td>\n",
       "      <td>0.790000</td>\n",
       "      <td>0.070000</td>\n",
       "      <td>0.280000</td>\n",
       "      <td>0.190000</td>\n",
       "      <td>0.000000</td>\n",
       "      <td>0.330000</td>\n",
       "      <td>1.000000</td>\n",
       "    </tr>\n",
       "    <tr>\n",
       "      <th>max</th>\n",
       "      <td>56.000000</td>\n",
       "      <td>10.000000</td>\n",
       "      <td>1.000000</td>\n",
       "      <td>1.000000</td>\n",
       "      <td>1.000000</td>\n",
       "      <td>1.000000</td>\n",
       "      <td>1.000000</td>\n",
       "      <td>1.000000</td>\n",
       "      <td>1.000000</td>\n",
       "      <td>1.000000</td>\n",
       "      <td>...</td>\n",
       "      <td>1.000000</td>\n",
       "      <td>1.000000</td>\n",
       "      <td>1.000000</td>\n",
       "      <td>1.000000</td>\n",
       "      <td>1.000000</td>\n",
       "      <td>1.000000</td>\n",
       "      <td>1.000000</td>\n",
       "      <td>1.000000</td>\n",
       "      <td>1.000000</td>\n",
       "      <td>1.000000</td>\n",
       "    </tr>\n",
       "  </tbody>\n",
       "</table>\n",
       "<p>8 rows × 104 columns</p>\n",
       "</div>"
      ],
      "text/plain": [
       "             state         fold   population  householdsize  racepctblack  \\\n",
       "count  1993.000000  1993.000000  1993.000000    1993.000000   1993.000000   \n",
       "mean     28.683894     5.496237     0.057612       0.463437      0.179227   \n",
       "std      16.401661     2.872650     0.126935       0.163747      0.252870   \n",
       "min       1.000000     1.000000     0.000000       0.000000      0.000000   \n",
       "25%      12.000000     3.000000     0.010000       0.350000      0.020000   \n",
       "50%      34.000000     5.000000     0.020000       0.440000      0.060000   \n",
       "75%      42.000000     8.000000     0.050000       0.540000      0.230000   \n",
       "max      56.000000    10.000000     1.000000       1.000000      1.000000   \n",
       "\n",
       "       racePctWhite  racePctAsian  racePctHisp  agePct12t21  agePct12t29  \\\n",
       "count   1993.000000   1993.000000  1993.000000  1993.000000  1993.000000   \n",
       "mean       0.753984      0.153753     0.144089     0.424210     0.493914   \n",
       "std        0.243807      0.208905     0.232531     0.155234     0.143584   \n",
       "min        0.000000      0.000000     0.000000     0.000000     0.000000   \n",
       "25%        0.630000      0.040000     0.010000     0.340000     0.410000   \n",
       "50%        0.850000      0.070000     0.040000     0.400000     0.480000   \n",
       "75%        0.940000      0.170000     0.160000     0.470000     0.540000   \n",
       "max        1.000000      1.000000     1.000000     1.000000     1.000000   \n",
       "\n",
       "          ...       PctBornSameState  PctSameHouse85  PctSameCity85  \\\n",
       "count     ...            1993.000000     1993.000000    1993.000000   \n",
       "mean      ...               0.608776        0.534967       0.626322   \n",
       "std       ...               0.204314        0.181360       0.200520   \n",
       "min       ...               0.000000        0.000000       0.000000   \n",
       "25%       ...               0.470000        0.420000       0.520000   \n",
       "50%       ...               0.630000        0.540000       0.670000   \n",
       "75%       ...               0.770000        0.660000       0.770000   \n",
       "max       ...               1.000000        1.000000       1.000000   \n",
       "\n",
       "       PctSameState85     LandArea      PopDens  PctUsePubTrans  \\\n",
       "count     1993.000000  1993.000000  1993.000000     1993.000000   \n",
       "mean         0.651470     0.065243     0.232910        0.161741   \n",
       "std          0.198253     0.109485     0.203127        0.229099   \n",
       "min          0.000000     0.000000     0.000000        0.000000   \n",
       "25%          0.560000     0.020000     0.100000        0.020000   \n",
       "50%          0.700000     0.040000     0.170000        0.070000   \n",
       "75%          0.790000     0.070000     0.280000        0.190000   \n",
       "max          1.000000     1.000000     1.000000        1.000000   \n",
       "\n",
       "       LemasPctOfficDrugUn  ViolentCrimesPerPop    highCrime  \n",
       "count          1993.000000          1993.000000  1993.000000  \n",
       "mean              0.094099             0.237983     0.627195  \n",
       "std               0.240379             0.233043     0.483672  \n",
       "min               0.000000             0.000000     0.000000  \n",
       "25%               0.000000             0.070000     0.000000  \n",
       "50%               0.000000             0.150000     1.000000  \n",
       "75%               0.000000             0.330000     1.000000  \n",
       "max               1.000000             1.000000     1.000000  \n",
       "\n",
       "[8 rows x 104 columns]"
      ]
     },
     "execution_count": 35,
     "metadata": {},
     "output_type": "execute_result"
    }
   ],
   "source": [
    "df.describe()"
   ]
  },
  {
   "cell_type": "code",
   "execution_count": 36,
   "metadata": {
    "collapsed": false,
    "deletable": true,
    "editable": true
   },
   "outputs": [
    {
     "data": {
      "text/plain": [
       "ViolentCrimesPerPop    1.000000\n",
       "PctIlleg               0.739266\n",
       "PctKids2Par            0.739231\n",
       "PctFam2Par             0.707438\n",
       "racePctWhite           0.685631\n",
       "Name: ViolentCrimesPerPop, dtype: float64"
      ]
     },
     "execution_count": 36,
     "metadata": {},
     "output_type": "execute_result"
    }
   ],
   "source": [
    "df.corr()['ViolentCrimesPerPop'].abs().nlargest(5)"
   ]
  },
  {
   "cell_type": "markdown",
   "metadata": {
    "deletable": true,
    "editable": true
   },
   "source": [
    "# 1. Decision Trees\n",
    "-------------------------------------"
   ]
  },
  {
   "cell_type": "markdown",
   "metadata": {},
   "source": [
    "#### 1.a Percentage data"
   ]
  },
  {
   "cell_type": "code",
   "execution_count": 43,
   "metadata": {
    "collapsed": false,
    "deletable": true,
    "editable": true
   },
   "outputs": [
    {
     "name": "stdout",
     "output_type": "stream",
     "text": [
      "High crime community is 62.719518314099346 %\n"
     ]
    }
   ],
   "source": [
    "pos=df[(df['highCrime'] == 1)]\n",
    "pos_percentage=len(pos)/len(df)\n",
    "print('High crime community is',pos_percentage*100,'%')"
   ]
  },
  {
   "cell_type": "code",
   "execution_count": 39,
   "metadata": {
    "collapsed": false,
    "deletable": true,
    "editable": true
   },
   "outputs": [
    {
     "data": {
      "text/plain": [
       "<matplotlib.axes._subplots.AxesSubplot at 0x7f37cce7a828>"
      ]
     },
     "execution_count": 39,
     "metadata": {},
     "output_type": "execute_result"
    },
    {
     "data": {
      "image/png": "[encoded data removed]",
      "text/plain": [
       "<matplotlib.figure.Figure at 0x7f37cd1ee9b0>"
      ]
     },
     "metadata": {},
     "output_type": "display_data"
    }
   ],
   "source": [
    "df['PctIlleg'].sample(n = 1800).hist(bins  = 50)"
   ]
  },
  {
   "cell_type": "code",
   "execution_count": 10,
   "metadata": {
    "collapsed": false,
    "deletable": true,
    "editable": true
   },
   "outputs": [
    {
     "data": {
      "text/plain": [
       "<matplotlib.axes._subplots.AxesSubplot at 0x7f37cd3db780>"
      ]
     },
     "execution_count": 10,
     "metadata": {},
     "output_type": "execute_result"
    },
    {
     "data": {
      "image/png": "[encoded data removed]",
      "text/plain": [
       "<matplotlib.figure.Figure at 0x7f37cd2fa668>"
      ]
     },
     "metadata": {},
     "output_type": "display_data"
    }
   ],
   "source": [
    "df.population.hist()"
   ]
  },
  {
   "cell_type": "markdown",
   "metadata": {},
   "source": [
    "#### 1.b DecisionTreeClassifier Model:"
   ]
  },
  {
   "cell_type": "code",
   "execution_count": 40,
   "metadata": {
    "collapsed": true,
    "deletable": true,
    "editable": true
   },
   "outputs": [],
   "source": [
    "dtclf = tree.DecisionTreeClassifier(max_depth= 3)\n",
    "dtclf = dtclf.fit(X,y)"
   ]
  },
  {
   "cell_type": "code",
   "execution_count": 41,
   "metadata": {
    "collapsed": true,
    "deletable": true,
    "editable": true
   },
   "outputs": [],
   "source": [
    "acc_scores = cross_val_score(dtclf, X, y, cv=10, scoring='accuracy').mean()\n",
    "pre_scores = cross_val_score(dtclf, X, y, cv=10, scoring='precision').mean()\n",
    "rec_scores = cross_val_score(dtclf, X, y, cv=10, scoring='recall').mean()"
   ]
  },
  {
   "cell_type": "code",
   "execution_count": 45,
   "metadata": {
    "collapsed": false,
    "deletable": true,
    "editable": true
   },
   "outputs": [
    {
     "name": "stdout",
     "output_type": "stream",
     "text": [
      "0.798243718593\n",
      "0.843267479959\n",
      "0.8392\n"
     ]
    }
   ],
   "source": [
    "print(acc_scores);print(pre_scores);print(rec_scores);"
   ]
  },
  {
   "cell_type": "markdown",
   "metadata": {
    "collapsed": true,
    "deletable": true,
    "editable": true
   },
   "source": [
    "# 2.Linear Classification\n",
    "---------"
   ]
  },
  {
   "cell_type": "markdown",
   "metadata": {
    "deletable": true,
    "editable": true
   },
   "source": [
    "a. GaussianNB Model:\n",
    "----"
   ]
  },
  {
   "cell_type": "markdown",
   "metadata": {
    "deletable": true,
    "editable": true
   },
   "source": [
    "### 2.i) 10 Fold CV:\n"
   ]
  },
  {
   "cell_type": "code",
   "execution_count": 51,
   "metadata": {
    "collapsed": false,
    "deletable": true,
    "editable": true
   },
   "outputs": [
    {
     "name": "stdout",
     "output_type": "stream",
     "text": [
      "Accuracy is 0.761608040201\n",
      "Precision is 0.911799814828\n",
      "Recall is 0.692\n"
     ]
    }
   ],
   "source": [
    "gnb = GaussianNB()\n",
    "acc_scores = cross_val_score(gnb, X, y, cv=10, scoring='accuracy').mean()\n",
    "pre_scores = cross_val_score(gnb, X, y, cv=10, scoring='precision').mean()\n",
    "rec_scores = cross_val_score(gnb, X, y, cv=10, scoring='recall').mean()\n",
    "\n",
    "\n",
    "print ('Accuracy is', acc_scores)\n",
    "print ('Precision is', pre_scores)\n",
    "print ('Recall is', rec_scores)"
   ]
  },
  {
   "cell_type": "markdown",
   "metadata": {
    "deletable": true,
    "editable": true
   },
   "source": [
    "### ii ) 10 most predictive features:"
   ]
  },
  {
   "cell_type": "markdown",
   "metadata": {
    "deletable": true,
    "editable": true
   },
   "source": [
    "#### Creating a dataframe with the response variable:"
   ]
  },
  {
   "cell_type": "code",
   "execution_count": 83,
   "metadata": {
    "collapsed": false,
    "deletable": true,
    "editable": true
   },
   "outputs": [],
   "source": [
    "count = 0\n",
    "dictPredFeat = {}\n",
    "for column in X:\n",
    "    meanTrue = X[y == 1][column].mean()\n",
    "    meanFalse = X[y == 0][column].mean()\n",
    "    varTrue = X[y == 1][column].var()\n",
    "    varFalse = X[y == 0][column].var()\n",
    "    if(column != 'highCrime'):\n",
    "        predScore = abs((meanTrue - meanFalse))/(varFalse+varTrue)\n",
    "        dictPredFeat[column] = predScore\n",
    "# print(sorted(dictPredFeat.items(), key=lambda x: x[1]))\n",
    "#     count = count+1"
   ]
  },
  {
   "cell_type": "markdown",
   "metadata": {
    "deletable": true,
    "editable": true
   },
   "source": [
    "#### sort and print the last 10 features:"
   ]
  },
  {
   "cell_type": "code",
   "execution_count": 84,
   "metadata": {
    "collapsed": false,
    "deletable": true,
    "editable": true
   },
   "outputs": [
    {
     "name": "stdout",
     "output_type": "stream",
     "text": [
      "('racePctWhite', 3.4402715072039958)\n",
      "('PctIlleg', 3.4669254454699323)\n",
      "('PctYoungKids2Par', 3.6447829226324915)\n",
      "('MalePctDivorce', 3.9465337329938768)\n",
      "('PctTeen2Par', 3.9954561774196211)\n",
      "('TotalPctDiv', 4.3812734118491097)\n",
      "('pctWInvInc', 4.3902391715141347)\n",
      "('PctFam2Par', 4.5894616248835112)\n",
      "('FemalePctDiv', 4.7517377779731245)\n",
      "('PctKids2Par', 4.9964781834967571)\n"
     ]
    }
   ],
   "source": [
    "TopTenFeat = sorted(dictPredFeat.items(), key=lambda x: x[1])[-10:]\n",
    "for i in TopTenFeat:\n",
    "    print(i)\n",
    "# print(count)"
   ]
  },
  {
   "cell_type": "markdown",
   "metadata": {
    "deletable": true,
    "editable": true
   },
   "source": [
    "2.b) LinearSVC:\n",
    "    --------"
   ]
  },
  {
   "cell_type": "code",
   "execution_count": 85,
   "metadata": {
    "collapsed": false,
    "deletable": true,
    "editable": true
   },
   "outputs": [
    {
     "name": "stdout",
     "output_type": "stream",
     "text": [
      "Accuracy is 0.804753768844\n",
      "Precision is 0.855179372789\n",
      "Recall is 0.8376\n"
     ]
    }
   ],
   "source": [
    "\n",
    "svmclf = svm.SVC(kernel='linear', C =1.0)\n",
    "acc_scores = cross_val_score(svmclf, X, y, cv=10, scoring='accuracy').mean()\n",
    "pre_scores = cross_val_score(svmclf, X, y, cv=10, scoring='precision').mean()\n",
    "rec_scores = cross_val_score(svmclf, X, y, cv=10, scoring='recall').mean()\n",
    "\n",
    "print ('Accuracy is', acc_scores)\n",
    "print ('Precision is', pre_scores)\n",
    "print ('Recall is', rec_scores)"
   ]
  },
  {
   "cell_type": "markdown",
   "metadata": {
    "deletable": true,
    "editable": true
   },
   "source": [
    "#### 2.B) Absolute feature weights( ie the coefficients of the hyperplance vector)"
   ]
  },
  {
   "cell_type": "code",
   "execution_count": 86,
   "metadata": {
    "collapsed": false,
    "deletable": true,
    "editable": true
   },
   "outputs": [
    {
     "data": {
      "text/plain": [
       "SVC(C=1.0, cache_size=200, class_weight=None, coef0=0.0,\n",
       "  decision_function_shape=None, degree=3, gamma='auto', kernel='linear',\n",
       "  max_iter=-1, probability=False, random_state=None, shrinking=True,\n",
       "  tol=0.001, verbose=False)"
      ]
     },
     "execution_count": 86,
     "metadata": {},
     "output_type": "execute_result"
    }
   ],
   "source": [
    "svmclf.fit(X,y)"
   ]
  },
  {
   "cell_type": "code",
   "execution_count": 87,
   "metadata": {
    "collapsed": false
   },
   "outputs": [
    {
     "name": "stdout",
     "output_type": "stream",
     "text": [
      "('agePct12t21', 0.98442987941004556)\n",
      "('RentHighQ', 0.99163825361111957)\n",
      "('PersPerOccupHous', 1.0275543973528991)\n",
      "('MalePctDivorce', 1.073578841827074)\n",
      "('population', 1.1086454264275147)\n",
      "('PctFam2Par', 1.5426528869036265)\n",
      "('racepctblack', 1.7203177655788284)\n",
      "('PctKids2Par', 2.0576723456134776)\n",
      "('racePctWhite', 2.2351581784693813)\n",
      "('pctWInvInc', 2.3861552101921903)\n"
     ]
    }
   ],
   "source": [
    "TopTenFeat_SVM = {}\n",
    "count = 0\n",
    "for i in X.columns:\n",
    "    TopTenFeat_SVM[i] = abs(svmclf.coef_[0][count])\n",
    "    count = count+ 1\n",
    "# print(sorted(TopTenFeat_SVM))\n",
    "# for key, value in sorted(TopTenFeat_SVM.items()):\n",
    "#     print(key,TopTenFeat_SVM[key])\n",
    "TopTenFeat = sorted(TopTenFeat_SVM.items(), key=lambda x: x[1])[-10:]\n",
    "for i in TopTenFeat:\n",
    "    print(i)"
   ]
  },
  {
   "cell_type": "markdown",
   "metadata": {
    "collapsed": true,
    "deletable": true,
    "editable": true
   },
   "source": [
    "# 3.Regression\n",
    "---------"
   ]
  },
  {
   "cell_type": "markdown",
   "metadata": {},
   "source": [
    "### a. Linear Regression:\n"
   ]
  },
  {
   "cell_type": "code",
   "execution_count": 105,
   "metadata": {
    "collapsed": false,
    "deletable": true,
    "editable": true
   },
   "outputs": [],
   "source": [
    "y_reg = df['ViolentCrimesPerPop']\n",
    "# print(y_reg)\n",
    "lr_1 = LinearRegression()\n",
    "scores = cross_val_score(lr_1, X, y_reg,None,scoring='neg_mean_squared_error',cv=10)"
   ]
  },
  {
   "cell_type": "markdown",
   "metadata": {
    "deletable": true,
    "editable": true
   },
   "source": [
    "## 3.a)I\n",
    "----------------------------\n",
    "Using 10-fold cross-validation, what is the estimated mean-\n",
    "squared-error (MSE) of the model?"
   ]
  },
  {
   "cell_type": "code",
   "execution_count": 112,
   "metadata": {
    "collapsed": false,
    "deletable": true,
    "editable": true
   },
   "outputs": [
    {
     "name": "stdout",
     "output_type": "stream",
     "text": [
      "0.0200939693044\n",
      "[-0.02983448 -0.02048526 -0.02735939 -0.02320408 -0.01944074 -0.01262621\n",
      " -0.01844842 -0.01222962 -0.02183042 -0.01548108]\n"
     ]
    }
   ],
   "source": [
    "print(np.abs(scores.mean()))\n",
    "# print(scores)"
   ]
  },
  {
   "cell_type": "markdown",
   "metadata": {
    "deletable": true,
    "editable": true
   },
   "source": [
    "### 3.a)II What is the MSE on the training set"
   ]
  },
  {
   "cell_type": "code",
   "execution_count": 113,
   "metadata": {
    "collapsed": false,
    "deletable": true,
    "editable": true
   },
   "outputs": [
    {
     "name": "stdout",
     "output_type": "stream",
     "text": [
      "Mean squared error: 0.21\n"
     ]
    }
   ],
   "source": [
    "lr_1.fit(X,y)\n",
    "print(\"Mean squared error: %.2f\"\n",
    "      % np.mean((lr_1.predict(initial) - y_reg) ** 2))"
   ]
  },
  {
   "cell_type": "markdown",
   "metadata": {
    "deletable": true,
    "editable": true
   },
   "source": [
    "### 3.a)III What features are most predictive of a high crime rate? A low crime rate?\n",
    "-----------------\n"
   ]
  },
  {
   "cell_type": "markdown",
   "metadata": {
    "deletable": true,
    "editable": true
   },
   "source": [
    "It’s easy to think that variables with larger coefficients are more important because they represent a larger change in the response.\n",
    "\n",
    "Since the features scale has been standardized, we can pick highest and lowest coefficent for the most predictive value."
   ]
  },
  {
   "cell_type": "code",
   "execution_count": 114,
   "metadata": {
    "collapsed": false,
    "deletable": true,
    "editable": true
   },
   "outputs": [
    {
     "name": "stdout",
     "output_type": "stream",
     "text": [
      "Coefficients: \n",
      " [  3.92893069e+00  -4.72988475e-01   7.12653984e-03  -3.07913352e-01\n",
      "   8.00925727e-02   3.73350141e-01   3.38705557e-02   1.05751191e-01\n",
      "   1.31793715e-01   4.09786934e-01  -2.83057873e+00   1.55829374e-01\n",
      "  -1.01150012e+00  -4.04683340e-01   9.28910249e-02  -9.46254374e-01\n",
      "  -3.29832636e-01  -1.01982922e-01   1.75570256e-02   9.26851094e-01\n",
      "   3.68235781e-01  -1.60868569e-01  -3.90602631e-02   4.10138565e-02\n",
      "  -5.49169780e-02   1.41410682e-01  -1.21712883e-01  -2.45149609e-01\n",
      "  -1.24365346e-01  -7.22382606e-02  -7.32844884e-02  -4.92669766e-01\n",
      "   3.02212207e-02   1.46580853e-01  -8.85614849e-02  -1.76563098e-01\n",
      "   3.06366098e-02   7.43965217e-01   5.99112583e-01   9.22660049e-02\n",
      "   4.34262821e-01  -6.51321368e-01  -1.71280681e-01   5.88978471e-02\n",
      "  -1.23646334e+00   8.06257423e-02   2.74478983e-01  -2.20974836e-02\n",
      "   9.12656982e-02  -8.47099742e-01  -8.41633406e-02  -1.73340558e-01\n",
      "   1.80238493e-01  -2.35033456e-01  -1.37413185e-01   3.31179994e-01\n",
      "  -5.69406383e-01   5.85686877e-01   7.12338607e-01  -1.21306527e+00\n",
      "   3.34153818e-02   2.06566245e-03  -1.02401605e-01  -3.01655093e-01\n",
      "   1.20533189e+00  -8.48005313e-02   1.47785584e-01  -3.92059677e-01\n",
      "  -1.67303939e-01   1.54067180e-01   5.93735292e-03  -8.20629796e-02\n",
      "  -9.15199757e-02   5.35955037e-01  -1.41241305e-02  -7.81914564e-02\n",
      "  -9.18601813e-02  -4.39457437e-02  -1.09344448e-01  -2.18050683e-01\n",
      "   8.00541398e-02   1.27096140e-01  -1.74705015e-01   1.06525869e-01\n",
      "   6.70068418e-01  -5.83415074e-01   8.97918021e-02  -9.23207117e-02\n",
      "  -2.75215280e-02  -4.96966315e-03   6.66264510e-04   4.46307016e-01\n",
      "   1.51105594e-01  -1.77499913e-01   8.44111110e-02  -1.07830444e-01\n",
      "  -1.51887854e-01   1.85532820e-02   1.13844148e-02   2.16343921e-02]\n"
     ]
    }
   ],
   "source": [
    "print('Coefficients: \\n', lr_1.coef_)\n",
    "ls_coef_lr1 = np.array(lr_1.coef_)\n",
    "max_feature = np.where(ls_coef_lr1 == ls_coef_lr1.max())"
   ]
  },
  {
   "cell_type": "markdown",
   "metadata": {
    "deletable": true,
    "editable": true
   },
   "source": [
    "#### iii) Most predictive toward high crime:"
   ]
  },
  {
   "cell_type": "code",
   "execution_count": 115,
   "metadata": {
    "collapsed": false,
    "deletable": true,
    "editable": true
   },
   "outputs": [
    {
     "data": {
      "text/plain": [
       "'population'"
      ]
     },
     "execution_count": 115,
     "metadata": {},
     "output_type": "execute_result"
    }
   ],
   "source": [
    "initial.columns[np.argmax(ls_coef_lr1)]"
   ]
  },
  {
   "cell_type": "markdown",
   "metadata": {
    "deletable": true,
    "editable": true
   },
   "source": [
    "#### iii) Most predictive toward low crime :"
   ]
  },
  {
   "cell_type": "code",
   "execution_count": 116,
   "metadata": {
    "collapsed": false,
    "deletable": true,
    "editable": true
   },
   "outputs": [
    {
     "data": {
      "text/plain": [
       "'numbUrban'"
      ]
     },
     "execution_count": 116,
     "metadata": {},
     "output_type": "execute_result"
    }
   ],
   "source": [
    "initial.columns[np.argmin(ls_coef_lr1)]"
   ]
  },
  {
   "cell_type": "markdown",
   "metadata": {
    "deletable": true,
    "editable": true
   },
   "source": [
    "Ridge Regression\n",
    "------------------"
   ]
  },
  {
   "cell_type": "code",
   "execution_count": 118,
   "metadata": {
    "collapsed": true,
    "deletable": true,
    "editable": true
   },
   "outputs": [],
   "source": [
    "param_range = np.logspace(-3, 1, 10)\n",
    "train_scores, test_scores = validation_curve(\n",
    "    linear_model.Ridge (), X, y_reg, param_name=\"alpha\", param_range=param_range,\n",
    "    cv=10, scoring=\"neg_mean_squared_error\", n_jobs=1)\n",
    "train_scores_mean = np.mean(train_scores, axis=1)\n",
    "train_scores_std = np.std(train_scores, axis=1)\n",
    "test_scores_mean = np.mean(test_scores, axis=1)\n",
    "test_scores_std = np.std(test_scores, axis=1)"
   ]
  },
  {
   "cell_type": "code",
   "execution_count": 120,
   "metadata": {
    "collapsed": false,
    "deletable": true,
    "editable": true
   },
   "outputs": [
    {
     "data": {
      "image/png": "[encoded data removed]",
      "text/plain": [
       "<matplotlib.figure.Figure at 0x7f37cca061d0>"
      ]
     },
     "metadata": {},
     "output_type": "display_data"
    }
   ],
   "source": [
    "plt.title(\"Validation Curve for tuning alpha\")\n",
    "plt.xlabel(\"Alpha\")\n",
    "plt.ylabel(\"MSE\")\n",
    "\n",
    "lw = 2\n",
    "plt.semilogx(param_range, train_scores_mean, label=\"Training score\",\n",
    "             color=\"darkorange\", lw=lw)\n",
    "plt.fill_between(param_range, train_scores_mean - train_scores_std,\n",
    "                 train_scores_mean + train_scores_std, alpha=0.2,\n",
    "                 color=\"darkorange\", lw=lw)\n",
    "plt.semilogx(param_range, test_scores_mean, label=\"Cross-validation score\",\n",
    "             color=\"navy\", lw=lw)\n",
    "plt.fill_between(param_range, test_scores_mean - test_scores_std,\n",
    "                 test_scores_mean + test_scores_std, alpha=0.2,\n",
    "                 color=\"navy\", lw=lw)\n",
    "plt.legend(loc=\"best\")\n",
    "plt.show()"
   ]
  },
  {
   "cell_type": "code",
   "execution_count": 124,
   "metadata": {
    "collapsed": true,
    "deletable": true,
    "editable": true
   },
   "outputs": [],
   "source": [
    "lrr = linear_model.Ridge(alpha = 0.001)"
   ]
  },
  {
   "cell_type": "code",
   "execution_count": 125,
   "metadata": {
    "collapsed": false,
    "deletable": true,
    "editable": true
   },
   "outputs": [
    {
     "data": {
      "text/plain": [
       "Ridge(alpha=0.001, copy_X=True, fit_intercept=True, max_iter=None,\n",
       "   normalize=False, random_state=None, solver='auto', tol=0.001)"
      ]
     },
     "execution_count": 125,
     "metadata": {},
     "output_type": "execute_result"
    }
   ],
   "source": [
    "lrr.fit(X,y_reg)"
   ]
  },
  {
   "cell_type": "code",
   "execution_count": 126,
   "metadata": {
    "collapsed": false,
    "deletable": true,
    "editable": true
   },
   "outputs": [
    {
     "name": "stdout",
     "output_type": "stream",
     "text": [
      "Mean squared error: 0.02\n"
     ]
    }
   ],
   "source": [
    "print(\"Mean squared error: %.2f\"\n",
    "      % np.mean((lrr.predict(X) - y_reg) ** 2))"
   ]
  },
  {
   "cell_type": "markdown",
   "metadata": {
    "deletable": true,
    "editable": true
   },
   "source": [
    "polynomial features\n",
    "--------"
   ]
  },
  {
   "cell_type": "code",
   "execution_count": 128,
   "metadata": {
    "collapsed": true,
    "deletable": true,
    "editable": true
   },
   "outputs": [],
   "source": [
    "poly = PolynomialFeatures(degree  = 2,interaction_only = False)\n",
    "poly_init = poly.fit_transform(X)"
   ]
  },
  {
   "cell_type": "markdown",
   "metadata": {
    "deletable": true,
    "editable": true
   },
   "source": [
    "param_range = [2,3,4,5]\n",
    "train_scores, test_scores = validation_curve(\n",
    "    PolynomialFeatures(), initial, Y, param_name=\"degree\", param_range=param_range,\n",
    "    cv=10, scoring=\"neg_mean_squared_error\", n_jobs=1)"
   ]
  },
  {
   "cell_type": "markdown",
   "metadata": {
    "collapsed": true,
    "deletable": true,
    "editable": true
   },
   "source": [
    "Crete polynomial feature"
   ]
  },
  {
   "cell_type": "code",
   "execution_count": 129,
   "metadata": {
    "collapsed": false,
    "deletable": true,
    "editable": true
   },
   "outputs": [
    {
     "data": {
      "text/plain": [
       "Ridge(alpha=0.001, copy_X=True, fit_intercept=True, max_iter=None,\n",
       "   normalize=False, random_state=None, solver='auto', tol=0.001)"
      ]
     },
     "execution_count": 129,
     "metadata": {},
     "output_type": "execute_result"
    }
   ],
   "source": [
    "lrr.fit(poly_init,y)"
   ]
  },
  {
   "cell_type": "code",
   "execution_count": 130,
   "metadata": {
    "collapsed": false,
    "deletable": true,
    "editable": true
   },
   "outputs": [
    {
     "name": "stdout",
     "output_type": "stream",
     "text": [
      "Mean squared error: 0.30\n"
     ]
    }
   ],
   "source": [
    "print(\"Mean squared error: %.2f\"\n",
    "      % np.mean((lrr.predict(poly_init) - y_reg) ** 2))"
   ]
  },
  {
   "cell_type": "code",
   "execution_count": 131,
   "metadata": {
    "collapsed": true,
    "deletable": true,
    "editable": true
   },
   "outputs": [],
   "source": [
    "df_poly = pd.DataFrame(poly_init)"
   ]
  },
  {
   "cell_type": "code",
   "execution_count": 133,
   "metadata": {
    "collapsed": false,
    "deletable": true,
    "editable": true
   },
   "outputs": [
    {
     "data": {
      "text/plain": [
       "(1993, 100)"
      ]
     },
     "execution_count": 133,
     "metadata": {},
     "output_type": "execute_result"
    }
   ],
   "source": [
    "X.shape"
   ]
  },
  {
   "cell_type": "code",
   "execution_count": 134,
   "metadata": {
    "collapsed": false,
    "deletable": true,
    "editable": true
   },
   "outputs": [
    {
     "data": {
      "text/plain": [
       "(1993, 5151)"
      ]
     },
     "execution_count": 134,
     "metadata": {},
     "output_type": "execute_result"
    }
   ],
   "source": [
    "poly_init.shape"
   ]
  },
  {
   "cell_type": "code",
   "execution_count": 136,
   "metadata": {
    "collapsed": false,
    "deletable": true,
    "editable": true,
    "scrolled": false
   },
   "outputs": [
    {
     "name": "stderr",
     "output_type": "stream",
     "text": [
      "/usr/local/lib/python3.5/dist-packages/sklearn/metrics/scorer.py:90: DeprecationWarning: Scoring method mean_squared_error was renamed to neg_mean_squared_error in version 0.18 and will be removed in 0.20.\n",
      "  sample_weight=sample_weight)\n",
      "/usr/local/lib/python3.5/dist-packages/sklearn/metrics/scorer.py:90: DeprecationWarning: Scoring method mean_squared_error was renamed to neg_mean_squared_error in version 0.18 and will be removed in 0.20.\n",
      "  sample_weight=sample_weight)\n",
      "/usr/local/lib/python3.5/dist-packages/sklearn/metrics/scorer.py:90: DeprecationWarning: Scoring method mean_squared_error was renamed to neg_mean_squared_error in version 0.18 and will be removed in 0.20.\n",
      "  sample_weight=sample_weight)\n",
      "/usr/local/lib/python3.5/dist-packages/sklearn/metrics/scorer.py:90: DeprecationWarning: Scoring method mean_squared_error was renamed to neg_mean_squared_error in version 0.18 and will be removed in 0.20.\n",
      "  sample_weight=sample_weight)\n",
      "/usr/local/lib/python3.5/dist-packages/sklearn/metrics/scorer.py:90: DeprecationWarning: Scoring method mean_squared_error was renamed to neg_mean_squared_error in version 0.18 and will be removed in 0.20.\n",
      "  sample_weight=sample_weight)\n",
      "/usr/local/lib/python3.5/dist-packages/sklearn/metrics/scorer.py:90: DeprecationWarning: Scoring method mean_squared_error was renamed to neg_mean_squared_error in version 0.18 and will be removed in 0.20.\n",
      "  sample_weight=sample_weight)\n",
      "/usr/local/lib/python3.5/dist-packages/sklearn/metrics/scorer.py:90: DeprecationWarning: Scoring method mean_squared_error was renamed to neg_mean_squared_error in version 0.18 and will be removed in 0.20.\n",
      "  sample_weight=sample_weight)\n",
      "/usr/local/lib/python3.5/dist-packages/sklearn/metrics/scorer.py:90: DeprecationWarning: Scoring method mean_squared_error was renamed to neg_mean_squared_error in version 0.18 and will be removed in 0.20.\n",
      "  sample_weight=sample_weight)\n",
      "/usr/local/lib/python3.5/dist-packages/sklearn/metrics/scorer.py:90: DeprecationWarning: Scoring method mean_squared_error was renamed to neg_mean_squared_error in version 0.18 and will be removed in 0.20.\n",
      "  sample_weight=sample_weight)\n",
      "/usr/local/lib/python3.5/dist-packages/sklearn/metrics/scorer.py:90: DeprecationWarning: Scoring method mean_squared_error was renamed to neg_mean_squared_error in version 0.18 and will be removed in 0.20.\n",
      "  sample_weight=sample_weight)\n"
     ]
    }
   ],
   "source": [
    "lrr = linear_model.Ridge(alpha = 0.001)\n",
    "scores = cross_val_score(lrr, poly_init, y_reg,None,scoring='mean_squared_error',cv=10,n_jobs = -1)"
   ]
  },
  {
   "cell_type": "code",
   "execution_count": 137,
   "metadata": {
    "collapsed": false,
    "deletable": true,
    "editable": true
   },
   "outputs": [
    {
     "data": {
      "text/plain": [
       "array([-0.14227491, -0.13626447, -0.18361291, -0.09502172, -0.07243209,\n",
       "       -0.1266391 , -0.08427071, -0.06765191, -0.16015351, -0.12677151])"
      ]
     },
     "execution_count": 137,
     "metadata": {},
     "output_type": "execute_result"
    }
   ],
   "source": [
    "scores"
   ]
  },
  {
   "cell_type": "code",
   "execution_count": 138,
   "metadata": {
    "collapsed": false,
    "deletable": true,
    "editable": true
   },
   "outputs": [
    {
     "name": "stdout",
     "output_type": "stream",
     "text": [
      "-0.119509285845\n"
     ]
    }
   ],
   "source": [
    "print(scores.mean())"
   ]
  },
  {
   "cell_type": "markdown",
   "metadata": {
    "collapsed": true,
    "deletable": true,
    "editable": true
   },
   "source": [
    "# 4.Dirty Data\n",
    "---------"
   ]
  },
  {
   "cell_type": "code",
   "execution_count": null,
   "metadata": {
    "collapsed": false,
    "deletable": true,
    "editable": true
   },
   "outputs": [],
   "source": [
    "ls_col_desc_dfd = np.array(dfd.describe().columns)\n",
    "ls_col_head_dfd = np.array(dfd.head().columns)\n",
    "np.intersect1d(ls_col_desc_dfd,ls_col_head_dfd)\n",
    "np.setdiff1d(ls_col_head_dfd,ls_col_desc_dfd)# so diffent set :) so convinenance\n"
   ]
  },
  {
   "cell_type": "code",
   "execution_count": null,
   "metadata": {
    "collapsed": true,
    "deletable": true,
    "editable": true
   },
   "outputs": [],
   "source": [
    "dfd = pd.read_csv(dicPathDirty)"
   ]
  },
  {
   "cell_type": "markdown",
   "metadata": {
    "deletable": true,
    "editable": true
   },
   "source": [
    "There 2 Way to replace ? mark. 1. replace  2. appmap\n",
    "1."
   ]
  },
  {
   "cell_type": "code",
   "execution_count": null,
   "metadata": {
    "collapsed": true,
    "deletable": true,
    "editable": true
   },
   "outputs": [],
   "source": [
    "dfd_clean = dfd.replace('?',np.nan)"
   ]
  },
  {
   "cell_type": "code",
   "execution_count": null,
   "metadata": {
    "collapsed": true,
    "deletable": true,
    "editable": true
   },
   "outputs": [],
   "source": [
    "y_train = dfd_clean.ViolentCrimesPerPop\n",
    "del dfd_clean['communityname']\n",
    "del dfd_clean['county']\n",
    "del dfd_clean['community']\n",
    "del dfd_clean['state']\n",
    "del dfd_clean['ViolentCrimesPerPop']\n",
    "del dfd_clean['fold']"
   ]
  },
  {
   "cell_type": "code",
   "execution_count": null,
   "metadata": {
    "collapsed": true,
    "deletable": true,
    "editable": true
   },
   "outputs": [],
   "source": [
    "cols_numeric = dfd_clean.columns"
   ]
  },
  {
   "cell_type": "code",
   "execution_count": null,
   "metadata": {
    "collapsed": true,
    "deletable": true,
    "editable": true
   },
   "outputs": [],
   "source": [
    "imputer = Imputer(missing_values = np.nan,\n",
    "                                          strategy=\"median\",\n",
    "                                          axis=0)"
   ]
  },
  {
   "cell_type": "code",
   "execution_count": null,
   "metadata": {
    "collapsed": true,
    "deletable": true,
    "editable": true
   },
   "outputs": [],
   "source": [
    "dfd_clean = imputer.fit_transform(dfd_clean)\n",
    "dfd_clean = pd.DataFrame(dfd_clean)\n",
    "dfd_clean.columns = cols_numeric"
   ]
  },
  {
   "cell_type": "code",
   "execution_count": null,
   "metadata": {
    "collapsed": true,
    "deletable": true,
    "editable": true
   },
   "outputs": [],
   "source": [
    "np.random.seed(40)"
   ]
  },
  {
   "cell_type": "code",
   "execution_count": null,
   "metadata": {
    "collapsed": true,
    "deletable": true,
    "editable": true
   },
   "outputs": [],
   "source": [
    "lr_1 = LinearRegression()\n",
    "scores = cross_val_score(lr_1, dfd_clean,y_train,None,scoring='neg_mean_squared_error',cv=1994)"
   ]
  },
  {
   "cell_type": "code",
   "execution_count": null,
   "metadata": {
    "collapsed": false,
    "deletable": true,
    "editable": true
   },
   "outputs": [],
   "source": [
    "pd.Series(scores).abs().nlargest(5)"
   ]
  },
  {
   "cell_type": "code",
   "execution_count": null,
   "metadata": {
    "collapsed": false,
    "deletable": true,
    "editable": true
   },
   "outputs": [],
   "source": [
    "np.array(scores).nlargest(5)"
   ]
  },
  {
   "cell_type": "code",
   "execution_count": null,
   "metadata": {
    "collapsed": false,
    "deletable": true,
    "editable": true
   },
   "outputs": [],
   "source": [
    "scores.mean()"
   ]
  },
  {
   "cell_type": "markdown",
   "metadata": {
    "deletable": true,
    "editable": true
   },
   "source": [
    "# 5. TEAM WORK\n",
    "---------"
   ]
  },
  {
   "cell_type": "markdown",
   "metadata": {
    "deletable": true,
    "editable": true
   },
   "source": [
    "## RadomForeset\n",
    "--------------------------"
   ]
  },
  {
   "cell_type": "code",
   "execution_count": 139,
   "metadata": {
    "collapsed": false,
    "deletable": true,
    "editable": true
   },
   "outputs": [
    {
     "data": {
      "image/png": "[encoded data removed]",
      "text/plain": [
       "<matplotlib.figure.Figure at 0x7f37ccc14f60>"
      ]
     },
     "metadata": {},
     "output_type": "display_data"
    }
   ],
   "source": [
    "plt.title(\"Validation Curve for tuning alpha\")\n",
    "plt.xlabel(\"Depth\")\n",
    "plt.ylabel(\"Accuracy\")\n",
    "\n",
    "lw = 2\n",
    "#plt.semilogx(param_range, train_scores_mean, label=\"Training score\",\n",
    "#             color=\"darkorange\", lw=lw)\n",
    "plt.plot(param_range,train_scores_mean,label=\"Training score\",color=\"darkorange\",lw=lw)\n",
    "plt.plot(param_range,test_scores_mean,label=\"Cross-validation score\",color=\"navy\",lw=lw)\n",
    "plt.fill_between(param_range, train_scores_mean - train_scores_std,\n",
    "                 train_scores_mean + train_scores_std, alpha=0.2,\n",
    "                 color=\"darkorange\", lw=lw)\n",
    "#plt.semilogx(param_range, test_scores_mean, label=\"Cross-validation score\",\n",
    "#             color=\"navy\", lw=lw)\n",
    "plt.fill_between(param_range, test_scores_mean - test_scores_std,\n",
    "                 test_scores_mean + test_scores_std, alpha=0.2,\n",
    "                 color=\"navy\", lw=lw)\n",
    "plt.legend(loc=\"best\")\n",
    "plt.show()"
   ]
  },
  {
   "cell_type": "code",
   "execution_count": 140,
   "metadata": {
    "collapsed": true,
    "deletable": true,
    "editable": true
   },
   "outputs": [],
   "source": [
    "rf_clf = RandomForestClassifier(random_state=100, max_depth=3)\n",
    "\n",
    "acc_scores = cross_val_score(rf_clf, X, y, cv=10, scoring='accuracy').mean()\n",
    "pre_scores = cross_val_score(rf_clf, X, y, cv=10, scoring='precision').mean()\n",
    "rec_scores = cross_val_score(rf_clf, X, y, cv=10, scoring='recall').mean()"
   ]
  },
  {
   "cell_type": "code",
   "execution_count": 141,
   "metadata": {
    "collapsed": false,
    "deletable": true,
    "editable": true
   },
   "outputs": [
    {
     "name": "stdout",
     "output_type": "stream",
     "text": [
      "Accuracy is 0.801253768844\n",
      "Precision is 0.83338783622\n",
      "Recall is 0.8616\n"
     ]
    }
   ],
   "source": [
    "print ('Accuracy is', acc_scores)\n",
    "print ('Precision is', pre_scores)\n",
    "print ('Recall is', rec_scores)"
   ]
  },
  {
   "cell_type": "code",
   "execution_count": 142,
   "metadata": {
    "collapsed": true,
    "deletable": true,
    "editable": true
   },
   "outputs": [],
   "source": [
    "param_range = range(1,10)\n",
    "train_scores, test_scores = validation_curve(\n",
    "    RandomForestClassifier(), X, y, param_name=\"max_depth\", param_range=param_range,\n",
    "    cv=10, scoring=\"accuracy\", n_jobs=1)\n",
    "train_scores_mean = np.mean(train_scores, axis=1)\n",
    "train_scores_std = np.std(train_scores, axis=1)\n",
    "test_scores_mean = np.mean(test_scores, axis=1)\n",
    "test_scores_std = np.std(test_scores, axis=1)"
   ]
  },
  {
   "cell_type": "markdown",
   "metadata": {
    "deletable": true,
    "editable": true
   },
   "source": [
    "## Nonlinear SVM\n",
    "---------------------"
   ]
  },
  {
   "cell_type": "markdown",
   "metadata": {
    "deletable": true,
    "editable": true
   },
   "source": [
    "Fine tuning Panelty coefficient => We pick C = 46"
   ]
  },
  {
   "cell_type": "code",
   "execution_count": 144,
   "metadata": {
    "collapsed": false,
    "deletable": true,
    "editable": true
   },
   "outputs": [
    {
     "data": {
      "image/png": "[encoded data removed]",
      "text/plain": [
       "<matplotlib.figure.Figure at 0x7f37ccc89160>"
      ]
     },
     "metadata": {},
     "output_type": "display_data"
    }
   ],
   "source": [
    "param_range = np.logspace(-1, 2, 10)\n",
    "train_scores, test_scores = validation_curve(\n",
    "    svm.SVC(kernel='poly'), X, y, param_name=\"C\", param_range=param_range,\n",
    "    cv=10, scoring=\"accuracy\", n_jobs=1)\n",
    "train_scores_mean = np.mean(train_scores, axis=1)\n",
    "train_scores_std = np.std(train_scores, axis=1)\n",
    "test_scores_mean = np.mean(test_scores, axis=1)\n",
    "test_scores_std = np.std(test_scores, axis=1)\n",
    "\n",
    "plt.title(\"Validation Curve for tuning alpha\")\n",
    "plt.xlabel(\"Alpha\")\n",
    "plt.ylabel(\"MSE\")\n",
    "\n",
    "lw = 2\n",
    "plt.semilogx(param_range, train_scores_mean, label=\"Training score\",\n",
    "             color=\"darkorange\", lw=lw)\n",
    "plt.fill_between(param_range, train_scores_mean - train_scores_std,\n",
    "                 train_scores_mean + train_scores_std, alpha=0.2,\n",
    "                 color=\"darkorange\", lw=lw)\n",
    "plt.semilogx(param_range, test_scores_mean, label=\"Cross-validation score\",\n",
    "             color=\"navy\", lw=lw)\n",
    "plt.fill_between(param_range, test_scores_mean - test_scores_std,\n",
    "                 test_scores_mean + test_scores_std, alpha=0.2,\n",
    "                 color=\"navy\", lw=lw)\n",
    "plt.legend(loc=\"best\")\n",
    "plt.show()"
   ]
  },
  {
   "cell_type": "code",
   "execution_count": 145,
   "metadata": {
    "collapsed": false,
    "deletable": true,
    "editable": true
   },
   "outputs": [
    {
     "data": {
      "text/plain": [
       "array([ 0.62719849,  0.62719849,  0.62719849,  0.69139698,  0.74406281,\n",
       "        0.77566332,  0.79523116,  0.80928894,  0.81932412,  0.81029397])"
      ]
     },
     "execution_count": 145,
     "metadata": {},
     "output_type": "execute_result"
    }
   ],
   "source": [
    "test_scores_mean"
   ]
  },
  {
   "cell_type": "code",
   "execution_count": 146,
   "metadata": {
    "collapsed": false,
    "deletable": true,
    "editable": true
   },
   "outputs": [
    {
     "data": {
      "text/plain": [
       "array([   0.1       ,    0.21544347,    0.46415888,    1.        ,\n",
       "          2.15443469,    4.64158883,   10.        ,   21.5443469 ,\n",
       "         46.41588834,  100.        ])"
      ]
     },
     "execution_count": 146,
     "metadata": {},
     "output_type": "execute_result"
    }
   ],
   "source": [
    "param_range"
   ]
  },
  {
   "cell_type": "code",
   "execution_count": 147,
   "metadata": {
    "collapsed": false,
    "deletable": true,
    "editable": true
   },
   "outputs": [
    {
     "name": "stdout",
     "output_type": "stream",
     "text": [
      "Accuracy is 0.818319095477\n",
      "Precision is 0.851133123637\n",
      "Recall is 0.8696\n"
     ]
    }
   ],
   "source": [
    "svmclf = svm.SVC(kernel='poly', C =46)\n",
    "acc_scores = cross_val_score(svmclf, X, y, cv=10, scoring='accuracy').mean()\n",
    "pre_scores = cross_val_score(svmclf, X, y, cv=10, scoring='precision').mean()\n",
    "rec_scores = cross_val_score(svmclf, X, y, cv=10, scoring='recall').mean()\n",
    "\n",
    "print ('Accuracy is', acc_scores)\n",
    "print ('Precision is', pre_scores)\n",
    "print ('Recall is', rec_scores)"
   ]
  },
  {
   "cell_type": "markdown",
   "metadata": {
    "deletable": true,
    "editable": true
   },
   "source": [
    "# Extra Credit: K-Means\n",
    "---------"
   ]
  },
  {
   "cell_type": "code",
   "execution_count": 148,
   "metadata": {
    "collapsed": false,
    "deletable": true,
    "editable": true
   },
   "outputs": [
    {
     "name": "stdout",
     "output_type": "stream",
     "text": [
      "Accuracy is 0.488989949749\n"
     ]
    }
   ],
   "source": [
    "from sklearn.cluster import KMeans\n",
    "kmClf = KMeans(n_clusters = 2)\n",
    "acc_scores = cross_val_score(kmClf, X, y, cv=10, scoring='accuracy').mean()\n",
    "\n",
    "print ('Accuracy is', acc_scores)\n"
   ]
  },
  {
   "cell_type": "markdown",
   "metadata": {},
   "source": [
    "#### The above K-Means is not the perfect model for labeled data that predicts a category\n",
    "#### Hence it shows varriying cross validated metrics mean value on each run"
   ]
  },
  {
   "cell_type": "markdown",
   "metadata": {
    "collapsed": true,
    "deletable": true,
    "editable": true
   },
   "source": [
    "# Comparasion \n",
    "------------------------------\n",
    "\n",
    "\n",
    "## Classification\n",
    "----------------------------\n",
    "\n",
    "In Classification , we apply:\n",
    "a)Decision Tree\n",
    "b)Random forest\n",
    "c)LinearSVC\n",
    "d)Polynomial kernal SVM\n",
    "e)K-mean\n",
    "\n",
    "## Regession\n",
    "------------------------\n",
    "a)Linear Regression\n",
    "b)Linar Ridge Regression\n",
    "c)Polynomial Regression\n"
   ]
  },
  {
   "cell_type": "code",
   "execution_count": null,
   "metadata": {
    "collapsed": true,
    "deletable": true,
    "editable": true
   },
   "outputs": [],
   "source": []
  }
 ],
 "metadata": {
  "anaconda-cloud": {},
  "kernelspec": {
   "display_name": "Python 3",
   "language": "python",
   "name": "python3"
  },
  "language_info": {
   "codemirror_mode": {
    "name": "ipython",
    "version": 3
   },
   "file_extension": ".py",
   "mimetype": "text/x-python",
   "name": "python",
   "nbconvert_exporter": "python",
   "pygments_lexer": "ipython3",
   "version": "3.5.2"
  }
 },
 "nbformat": 4,
 "nbformat_minor": 1
}
