{
 "cells": [
  {
   "cell_type": "markdown",
   "metadata": {},
   "source": [
    "Here is the first Part =\n",
    "\n",
    "Part 0 Initial\n",
    "---------------------\n",
    "\n",
    "\n",
    "Readi file into pandas datafrme"
   ]
  },
  {
   "cell_type": "code",
   "execution_count": 1,
   "metadata": {
    "collapsed": true
   },
   "outputs": [],
   "source": [
    "from sklearn.tree import DecisionTreeClassifier\n",
    "from sklearn.tree import export_graphviz\n",
    "import pandas as pd\n",
    "import numpy as np\n",
    "import os\n",
    "from sklearn import tree\n",
    "from IPython.display import Image  \n",
    "from sklearn.model_selection import cross_val_score\n",
    "from sklearn.metrics import accuracy_score\n",
    "import pydotplus\n",
    "from  sklearn.linear_model import LinearRegression\n",
    "from sklearn.model_selection import validation_curve\n",
    "from sklearn import linear_model\n",
    "import matplotlib.pyplot as plt\n",
    "from sklearn.naive_bayes import GaussianNB\n",
    "from sklearn.preprocessing import PolynomialFeatures\n",
    "from sklearn.preprocessing import Imputer\n",
    "from sklearn.ensemble import RandomForestClassifier\n",
    "\n",
    "\n",
    "%matplotlib inline\n",
    "dicPath = os.getcwd()\n",
    "dicPathClean = os.path.join(dicPath,'Crime Prediction Data','communities-crime-clean.csv')\n",
    "dicPathDirty = os.path.join(dicPath,'Crime Prediction Data','communities-crime-full.csv')"
   ]
  },
  {
   "cell_type": "code",
   "execution_count": 2,
   "metadata": {
    "collapsed": true
   },
   "outputs": [],
   "source": [
    "df=pd.read_csv(dicPathClean)\n",
    "dfd = pd.read_csv(dicPathDirty)\n",
    "df['highCrime'] = np.where(df['ViolentCrimesPerPop']>0.1, 1, 0)"
   ]
  },
  {
   "cell_type": "markdown",
   "metadata": {},
   "source": [
    "Over view for the data\n",
    "Part I Explore world\n",
    "-----------------"
   ]
  },
  {
   "cell_type": "code",
   "execution_count": 3,
   "metadata": {},
   "outputs": [
    {
     "data": {
      "text/plain": [
       "(1993, 105)"
      ]
     },
     "execution_count": 3,
     "metadata": {},
     "output_type": "execute_result"
    }
   ],
   "source": [
    "df.shape"
   ]
  },
  {
   "cell_type": "code",
   "execution_count": 4,
   "metadata": {},
   "outputs": [
    {
     "data": {
      "text/html": [
       "<div>\n",
       "<table border=\"1\" class=\"dataframe\">\n",
       "  <thead>\n",
       "    <tr style=\"text-align: right;\">\n",
       "      <th></th>\n",
       "      <th>state</th>\n",
       "      <th>county</th>\n",
       "      <th>community</th>\n",
       "      <th>communityname</th>\n",
       "      <th>fold</th>\n",
       "      <th>population</th>\n",
       "      <th>householdsize</th>\n",
       "      <th>racepctblack</th>\n",
       "      <th>racePctWhite</th>\n",
       "      <th>racePctAsian</th>\n",
       "      <th>...</th>\n",
       "      <th>LandArea</th>\n",
       "      <th>PopDens</th>\n",
       "      <th>PctUsePubTrans</th>\n",
       "      <th>PolicCars</th>\n",
       "      <th>PolicOperBudg</th>\n",
       "      <th>LemasPctPolicOnPatr</th>\n",
       "      <th>LemasGangUnitDeploy</th>\n",
       "      <th>LemasPctOfficDrugUn</th>\n",
       "      <th>PolicBudgPerPop</th>\n",
       "      <th>ViolentCrimesPerPop</th>\n",
       "    </tr>\n",
       "  </thead>\n",
       "  <tbody>\n",
       "    <tr>\n",
       "      <th>0</th>\n",
       "      <td>8</td>\n",
       "      <td>?</td>\n",
       "      <td>?</td>\n",
       "      <td>Lakewoodcity</td>\n",
       "      <td>1</td>\n",
       "      <td>0.19</td>\n",
       "      <td>0.33</td>\n",
       "      <td>0.02</td>\n",
       "      <td>0.90</td>\n",
       "      <td>0.12</td>\n",
       "      <td>...</td>\n",
       "      <td>0.12</td>\n",
       "      <td>0.26</td>\n",
       "      <td>0.20</td>\n",
       "      <td>0.06</td>\n",
       "      <td>0.04</td>\n",
       "      <td>0.9</td>\n",
       "      <td>0.5</td>\n",
       "      <td>0.32</td>\n",
       "      <td>0.14</td>\n",
       "      <td>0.20</td>\n",
       "    </tr>\n",
       "    <tr>\n",
       "      <th>1</th>\n",
       "      <td>53</td>\n",
       "      <td>?</td>\n",
       "      <td>?</td>\n",
       "      <td>Tukwilacity</td>\n",
       "      <td>1</td>\n",
       "      <td>0.00</td>\n",
       "      <td>0.16</td>\n",
       "      <td>0.12</td>\n",
       "      <td>0.74</td>\n",
       "      <td>0.45</td>\n",
       "      <td>...</td>\n",
       "      <td>0.02</td>\n",
       "      <td>0.12</td>\n",
       "      <td>0.45</td>\n",
       "      <td>?</td>\n",
       "      <td>?</td>\n",
       "      <td>?</td>\n",
       "      <td>?</td>\n",
       "      <td>0.00</td>\n",
       "      <td>?</td>\n",
       "      <td>0.67</td>\n",
       "    </tr>\n",
       "    <tr>\n",
       "      <th>2</th>\n",
       "      <td>24</td>\n",
       "      <td>?</td>\n",
       "      <td>?</td>\n",
       "      <td>Aberdeentown</td>\n",
       "      <td>1</td>\n",
       "      <td>0.00</td>\n",
       "      <td>0.42</td>\n",
       "      <td>0.49</td>\n",
       "      <td>0.56</td>\n",
       "      <td>0.17</td>\n",
       "      <td>...</td>\n",
       "      <td>0.01</td>\n",
       "      <td>0.21</td>\n",
       "      <td>0.02</td>\n",
       "      <td>?</td>\n",
       "      <td>?</td>\n",
       "      <td>?</td>\n",
       "      <td>?</td>\n",
       "      <td>0.00</td>\n",
       "      <td>?</td>\n",
       "      <td>0.43</td>\n",
       "    </tr>\n",
       "    <tr>\n",
       "      <th>3</th>\n",
       "      <td>34</td>\n",
       "      <td>5</td>\n",
       "      <td>81440</td>\n",
       "      <td>Willingborotownship</td>\n",
       "      <td>1</td>\n",
       "      <td>0.04</td>\n",
       "      <td>0.77</td>\n",
       "      <td>1.00</td>\n",
       "      <td>0.08</td>\n",
       "      <td>0.12</td>\n",
       "      <td>...</td>\n",
       "      <td>0.02</td>\n",
       "      <td>0.39</td>\n",
       "      <td>0.28</td>\n",
       "      <td>?</td>\n",
       "      <td>?</td>\n",
       "      <td>?</td>\n",
       "      <td>?</td>\n",
       "      <td>0.00</td>\n",
       "      <td>?</td>\n",
       "      <td>0.12</td>\n",
       "    </tr>\n",
       "    <tr>\n",
       "      <th>4</th>\n",
       "      <td>42</td>\n",
       "      <td>95</td>\n",
       "      <td>6096</td>\n",
       "      <td>Bethlehemtownship</td>\n",
       "      <td>1</td>\n",
       "      <td>0.01</td>\n",
       "      <td>0.55</td>\n",
       "      <td>0.02</td>\n",
       "      <td>0.95</td>\n",
       "      <td>0.09</td>\n",
       "      <td>...</td>\n",
       "      <td>0.04</td>\n",
       "      <td>0.09</td>\n",
       "      <td>0.02</td>\n",
       "      <td>?</td>\n",
       "      <td>?</td>\n",
       "      <td>?</td>\n",
       "      <td>?</td>\n",
       "      <td>0.00</td>\n",
       "      <td>?</td>\n",
       "      <td>0.03</td>\n",
       "    </tr>\n",
       "  </tbody>\n",
       "</table>\n",
       "<p>5 rows × 128 columns</p>\n",
       "</div>"
      ],
      "text/plain": [
       "   state county community        communityname  fold  population  \\\n",
       "0      8      ?         ?         Lakewoodcity     1        0.19   \n",
       "1     53      ?         ?          Tukwilacity     1        0.00   \n",
       "2     24      ?         ?         Aberdeentown     1        0.00   \n",
       "3     34      5     81440  Willingborotownship     1        0.04   \n",
       "4     42     95      6096    Bethlehemtownship     1        0.01   \n",
       "\n",
       "   householdsize  racepctblack  racePctWhite  racePctAsian  \\\n",
       "0           0.33          0.02          0.90          0.12   \n",
       "1           0.16          0.12          0.74          0.45   \n",
       "2           0.42          0.49          0.56          0.17   \n",
       "3           0.77          1.00          0.08          0.12   \n",
       "4           0.55          0.02          0.95          0.09   \n",
       "\n",
       "          ...           LandArea  PopDens  PctUsePubTrans  PolicCars  \\\n",
       "0         ...               0.12     0.26            0.20       0.06   \n",
       "1         ...               0.02     0.12            0.45          ?   \n",
       "2         ...               0.01     0.21            0.02          ?   \n",
       "3         ...               0.02     0.39            0.28          ?   \n",
       "4         ...               0.04     0.09            0.02          ?   \n",
       "\n",
       "   PolicOperBudg  LemasPctPolicOnPatr  LemasGangUnitDeploy  \\\n",
       "0           0.04                  0.9                  0.5   \n",
       "1              ?                    ?                    ?   \n",
       "2              ?                    ?                    ?   \n",
       "3              ?                    ?                    ?   \n",
       "4              ?                    ?                    ?   \n",
       "\n",
       "   LemasPctOfficDrugUn  PolicBudgPerPop  ViolentCrimesPerPop  \n",
       "0                 0.32             0.14                 0.20  \n",
       "1                 0.00                ?                 0.67  \n",
       "2                 0.00                ?                 0.43  \n",
       "3                 0.00                ?                 0.12  \n",
       "4                 0.00                ?                 0.03  \n",
       "\n",
       "[5 rows x 128 columns]"
      ]
     },
     "execution_count": 4,
     "metadata": {},
     "output_type": "execute_result"
    }
   ],
   "source": [
    "dfd.head()"
   ]
  },
  {
   "cell_type": "markdown",
   "metadata": {},
   "source": [
    "Here is gonna to explore the dirty data\n",
    "# of example is the same, however, the columns aren't not => check which feature is missing"
   ]
  },
  {
   "cell_type": "code",
   "execution_count": 5,
   "metadata": {},
   "outputs": [
    {
     "data": {
      "text/plain": [
       "array(['LemasGangUnitDeploy', 'LemasPctPolicOnPatr', 'LemasSwFTFieldOps',\n",
       "       'LemasSwFTFieldPerPop', 'LemasSwFTPerPop', 'LemasSwornFT',\n",
       "       'LemasTotReqPerPop', 'LemasTotalReq', 'NumKindsDrugsSeiz',\n",
       "       'OfficAssgnDrugUnits', 'OtherPerCap', 'PctPolicAsian',\n",
       "       'PctPolicBlack', 'PctPolicHisp', 'PctPolicMinor', 'PctPolicWhite',\n",
       "       'PolicAveOTWorked', 'PolicBudgPerPop', 'PolicCars', 'PolicOperBudg',\n",
       "       'PolicPerPop', 'PolicReqPerOffic', 'RacialMatchCommPol',\n",
       "       'community', 'communityname', 'county'], dtype=object)"
      ]
     },
     "execution_count": 5,
     "metadata": {},
     "output_type": "execute_result"
    }
   ],
   "source": [
    "ls_col_desc_dfd = np.array(dfd.describe().columns)\n",
    "ls_col_head_dfd = np.array(dfd.head().columns)\n",
    "np.intersect1d(ls_col_desc_dfd,ls_col_head_dfd)\n",
    "np.setdiff1d(ls_col_head_dfd,ls_col_desc_dfd)# so diffent set :) so convinenance"
   ]
  },
  {
   "cell_type": "code",
   "execution_count": 6,
   "metadata": {},
   "outputs": [
    {
     "data": {
      "text/html": [
       "<div>\n",
       "<table border=\"1\" class=\"dataframe\">\n",
       "  <thead>\n",
       "    <tr style=\"text-align: right;\">\n",
       "      <th></th>\n",
       "      <th>state</th>\n",
       "      <th>fold</th>\n",
       "      <th>population</th>\n",
       "      <th>householdsize</th>\n",
       "      <th>racepctblack</th>\n",
       "      <th>racePctWhite</th>\n",
       "      <th>racePctAsian</th>\n",
       "      <th>racePctHisp</th>\n",
       "      <th>agePct12t21</th>\n",
       "      <th>agePct12t29</th>\n",
       "      <th>...</th>\n",
       "      <th>PctBornSameState</th>\n",
       "      <th>PctSameHouse85</th>\n",
       "      <th>PctSameCity85</th>\n",
       "      <th>PctSameState85</th>\n",
       "      <th>LandArea</th>\n",
       "      <th>PopDens</th>\n",
       "      <th>PctUsePubTrans</th>\n",
       "      <th>LemasPctOfficDrugUn</th>\n",
       "      <th>ViolentCrimesPerPop</th>\n",
       "      <th>highCrime</th>\n",
       "    </tr>\n",
       "  </thead>\n",
       "  <tbody>\n",
       "    <tr>\n",
       "      <th>count</th>\n",
       "      <td>1993.000000</td>\n",
       "      <td>1993.000000</td>\n",
       "      <td>1993.000000</td>\n",
       "      <td>1993.000000</td>\n",
       "      <td>1993.000000</td>\n",
       "      <td>1993.000000</td>\n",
       "      <td>1993.000000</td>\n",
       "      <td>1993.000000</td>\n",
       "      <td>1993.000000</td>\n",
       "      <td>1993.000000</td>\n",
       "      <td>...</td>\n",
       "      <td>1993.000000</td>\n",
       "      <td>1993.000000</td>\n",
       "      <td>1993.000000</td>\n",
       "      <td>1993.000000</td>\n",
       "      <td>1993.000000</td>\n",
       "      <td>1993.000000</td>\n",
       "      <td>1993.000000</td>\n",
       "      <td>1993.000000</td>\n",
       "      <td>1993.000000</td>\n",
       "      <td>1993.000000</td>\n",
       "    </tr>\n",
       "    <tr>\n",
       "      <th>mean</th>\n",
       "      <td>28.683894</td>\n",
       "      <td>5.496237</td>\n",
       "      <td>0.057612</td>\n",
       "      <td>0.463437</td>\n",
       "      <td>0.179227</td>\n",
       "      <td>0.753984</td>\n",
       "      <td>0.153753</td>\n",
       "      <td>0.144089</td>\n",
       "      <td>0.424210</td>\n",
       "      <td>0.493914</td>\n",
       "      <td>...</td>\n",
       "      <td>0.608776</td>\n",
       "      <td>0.534967</td>\n",
       "      <td>0.626322</td>\n",
       "      <td>0.651470</td>\n",
       "      <td>0.065243</td>\n",
       "      <td>0.232910</td>\n",
       "      <td>0.161741</td>\n",
       "      <td>0.094099</td>\n",
       "      <td>0.237983</td>\n",
       "      <td>0.627195</td>\n",
       "    </tr>\n",
       "    <tr>\n",
       "      <th>std</th>\n",
       "      <td>16.401661</td>\n",
       "      <td>2.872650</td>\n",
       "      <td>0.126935</td>\n",
       "      <td>0.163747</td>\n",
       "      <td>0.252870</td>\n",
       "      <td>0.243807</td>\n",
       "      <td>0.208905</td>\n",
       "      <td>0.232531</td>\n",
       "      <td>0.155234</td>\n",
       "      <td>0.143584</td>\n",
       "      <td>...</td>\n",
       "      <td>0.204314</td>\n",
       "      <td>0.181360</td>\n",
       "      <td>0.200520</td>\n",
       "      <td>0.198253</td>\n",
       "      <td>0.109485</td>\n",
       "      <td>0.203127</td>\n",
       "      <td>0.229099</td>\n",
       "      <td>0.240379</td>\n",
       "      <td>0.233043</td>\n",
       "      <td>0.483672</td>\n",
       "    </tr>\n",
       "    <tr>\n",
       "      <th>min</th>\n",
       "      <td>1.000000</td>\n",
       "      <td>1.000000</td>\n",
       "      <td>0.000000</td>\n",
       "      <td>0.000000</td>\n",
       "      <td>0.000000</td>\n",
       "      <td>0.000000</td>\n",
       "      <td>0.000000</td>\n",
       "      <td>0.000000</td>\n",
       "      <td>0.000000</td>\n",
       "      <td>0.000000</td>\n",
       "      <td>...</td>\n",
       "      <td>0.000000</td>\n",
       "      <td>0.000000</td>\n",
       "      <td>0.000000</td>\n",
       "      <td>0.000000</td>\n",
       "      <td>0.000000</td>\n",
       "      <td>0.000000</td>\n",
       "      <td>0.000000</td>\n",
       "      <td>0.000000</td>\n",
       "      <td>0.000000</td>\n",
       "      <td>0.000000</td>\n",
       "    </tr>\n",
       "    <tr>\n",
       "      <th>25%</th>\n",
       "      <td>12.000000</td>\n",
       "      <td>3.000000</td>\n",
       "      <td>0.010000</td>\n",
       "      <td>0.350000</td>\n",
       "      <td>0.020000</td>\n",
       "      <td>0.630000</td>\n",
       "      <td>0.040000</td>\n",
       "      <td>0.010000</td>\n",
       "      <td>0.340000</td>\n",
       "      <td>0.410000</td>\n",
       "      <td>...</td>\n",
       "      <td>0.470000</td>\n",
       "      <td>0.420000</td>\n",
       "      <td>0.520000</td>\n",
       "      <td>0.560000</td>\n",
       "      <td>0.020000</td>\n",
       "      <td>0.100000</td>\n",
       "      <td>0.020000</td>\n",
       "      <td>0.000000</td>\n",
       "      <td>0.070000</td>\n",
       "      <td>0.000000</td>\n",
       "    </tr>\n",
       "    <tr>\n",
       "      <th>50%</th>\n",
       "      <td>34.000000</td>\n",
       "      <td>5.000000</td>\n",
       "      <td>0.020000</td>\n",
       "      <td>0.440000</td>\n",
       "      <td>0.060000</td>\n",
       "      <td>0.850000</td>\n",
       "      <td>0.070000</td>\n",
       "      <td>0.040000</td>\n",
       "      <td>0.400000</td>\n",
       "      <td>0.480000</td>\n",
       "      <td>...</td>\n",
       "      <td>0.630000</td>\n",
       "      <td>0.540000</td>\n",
       "      <td>0.670000</td>\n",
       "      <td>0.700000</td>\n",
       "      <td>0.040000</td>\n",
       "      <td>0.170000</td>\n",
       "      <td>0.070000</td>\n",
       "      <td>0.000000</td>\n",
       "      <td>0.150000</td>\n",
       "      <td>1.000000</td>\n",
       "    </tr>\n",
       "    <tr>\n",
       "      <th>75%</th>\n",
       "      <td>42.000000</td>\n",
       "      <td>8.000000</td>\n",
       "      <td>0.050000</td>\n",
       "      <td>0.540000</td>\n",
       "      <td>0.230000</td>\n",
       "      <td>0.940000</td>\n",
       "      <td>0.170000</td>\n",
       "      <td>0.160000</td>\n",
       "      <td>0.470000</td>\n",
       "      <td>0.540000</td>\n",
       "      <td>...</td>\n",
       "      <td>0.770000</td>\n",
       "      <td>0.660000</td>\n",
       "      <td>0.770000</td>\n",
       "      <td>0.790000</td>\n",
       "      <td>0.070000</td>\n",
       "      <td>0.280000</td>\n",
       "      <td>0.190000</td>\n",
       "      <td>0.000000</td>\n",
       "      <td>0.330000</td>\n",
       "      <td>1.000000</td>\n",
       "    </tr>\n",
       "    <tr>\n",
       "      <th>max</th>\n",
       "      <td>56.000000</td>\n",
       "      <td>10.000000</td>\n",
       "      <td>1.000000</td>\n",
       "      <td>1.000000</td>\n",
       "      <td>1.000000</td>\n",
       "      <td>1.000000</td>\n",
       "      <td>1.000000</td>\n",
       "      <td>1.000000</td>\n",
       "      <td>1.000000</td>\n",
       "      <td>1.000000</td>\n",
       "      <td>...</td>\n",
       "      <td>1.000000</td>\n",
       "      <td>1.000000</td>\n",
       "      <td>1.000000</td>\n",
       "      <td>1.000000</td>\n",
       "      <td>1.000000</td>\n",
       "      <td>1.000000</td>\n",
       "      <td>1.000000</td>\n",
       "      <td>1.000000</td>\n",
       "      <td>1.000000</td>\n",
       "      <td>1.000000</td>\n",
       "    </tr>\n",
       "  </tbody>\n",
       "</table>\n",
       "<p>8 rows × 104 columns</p>\n",
       "</div>"
      ],
      "text/plain": [
       "             state         fold   population  householdsize  racepctblack  \\\n",
       "count  1993.000000  1993.000000  1993.000000    1993.000000   1993.000000   \n",
       "mean     28.683894     5.496237     0.057612       0.463437      0.179227   \n",
       "std      16.401661     2.872650     0.126935       0.163747      0.252870   \n",
       "min       1.000000     1.000000     0.000000       0.000000      0.000000   \n",
       "25%      12.000000     3.000000     0.010000       0.350000      0.020000   \n",
       "50%      34.000000     5.000000     0.020000       0.440000      0.060000   \n",
       "75%      42.000000     8.000000     0.050000       0.540000      0.230000   \n",
       "max      56.000000    10.000000     1.000000       1.000000      1.000000   \n",
       "\n",
       "       racePctWhite  racePctAsian  racePctHisp  agePct12t21  agePct12t29  \\\n",
       "count   1993.000000   1993.000000  1993.000000  1993.000000  1993.000000   \n",
       "mean       0.753984      0.153753     0.144089     0.424210     0.493914   \n",
       "std        0.243807      0.208905     0.232531     0.155234     0.143584   \n",
       "min        0.000000      0.000000     0.000000     0.000000     0.000000   \n",
       "25%        0.630000      0.040000     0.010000     0.340000     0.410000   \n",
       "50%        0.850000      0.070000     0.040000     0.400000     0.480000   \n",
       "75%        0.940000      0.170000     0.160000     0.470000     0.540000   \n",
       "max        1.000000      1.000000     1.000000     1.000000     1.000000   \n",
       "\n",
       "          ...       PctBornSameState  PctSameHouse85  PctSameCity85  \\\n",
       "count     ...            1993.000000     1993.000000    1993.000000   \n",
       "mean      ...               0.608776        0.534967       0.626322   \n",
       "std       ...               0.204314        0.181360       0.200520   \n",
       "min       ...               0.000000        0.000000       0.000000   \n",
       "25%       ...               0.470000        0.420000       0.520000   \n",
       "50%       ...               0.630000        0.540000       0.670000   \n",
       "75%       ...               0.770000        0.660000       0.770000   \n",
       "max       ...               1.000000        1.000000       1.000000   \n",
       "\n",
       "       PctSameState85     LandArea      PopDens  PctUsePubTrans  \\\n",
       "count     1993.000000  1993.000000  1993.000000     1993.000000   \n",
       "mean         0.651470     0.065243     0.232910        0.161741   \n",
       "std          0.198253     0.109485     0.203127        0.229099   \n",
       "min          0.000000     0.000000     0.000000        0.000000   \n",
       "25%          0.560000     0.020000     0.100000        0.020000   \n",
       "50%          0.700000     0.040000     0.170000        0.070000   \n",
       "75%          0.790000     0.070000     0.280000        0.190000   \n",
       "max          1.000000     1.000000     1.000000        1.000000   \n",
       "\n",
       "       LemasPctOfficDrugUn  ViolentCrimesPerPop    highCrime  \n",
       "count          1993.000000          1993.000000  1993.000000  \n",
       "mean              0.094099             0.237983     0.627195  \n",
       "std               0.240379             0.233043     0.483672  \n",
       "min               0.000000             0.000000     0.000000  \n",
       "25%               0.000000             0.070000     0.000000  \n",
       "50%               0.000000             0.150000     1.000000  \n",
       "75%               0.000000             0.330000     1.000000  \n",
       "max               1.000000             1.000000     1.000000  \n",
       "\n",
       "[8 rows x 104 columns]"
      ]
     },
     "execution_count": 6,
     "metadata": {},
     "output_type": "execute_result"
    }
   ],
   "source": [
    "df.describe()"
   ]
  },
  {
   "cell_type": "code",
   "execution_count": 7,
   "metadata": {},
   "outputs": [
    {
     "data": {
      "text/plain": [
       "ViolentCrimesPerPop    1.000000\n",
       "PctIlleg               0.739266\n",
       "PctKids2Par            0.739231\n",
       "PctFam2Par             0.707438\n",
       "racePctWhite           0.685631\n",
       "Name: ViolentCrimesPerPop, dtype: float64"
      ]
     },
     "execution_count": 7,
     "metadata": {},
     "output_type": "execute_result"
    }
   ],
   "source": [
    "df.corr()['ViolentCrimesPerPop'].abs().nlargest(5)"
   ]
  },
  {
   "cell_type": "markdown",
   "metadata": {},
   "source": [
    "Part II Crime community percentage?\n",
    "-------------------------------------"
   ]
  },
  {
   "cell_type": "code",
   "execution_count": 8,
   "metadata": {},
   "outputs": [
    {
     "name": "stdout",
     "output_type": "stream",
     "text": [
      "High crime community is 0.6271951831409934 %\n"
     ]
    }
   ],
   "source": [
    "pos=df[(df['highCrime'] == 1)]\n",
    "pos_percentage=len(pos)/len(df)\n",
    "print('High crime community is',pos_percentage,'%')"
   ]
  },
  {
   "cell_type": "code",
   "execution_count": null,
   "metadata": {
    "collapsed": true
   },
   "outputs": [],
   "source": []
  },
  {
   "cell_type": "code",
   "execution_count": 9,
   "metadata": {},
   "outputs": [
    {
     "data": {
      "text/plain": [
       "<matplotlib.axes._subplots.AxesSubplot at 0x7f7525602e48>"
      ]
     },
     "execution_count": 9,
     "metadata": {},
     "output_type": "execute_result"
    },
    {
     "data": {
      "image/png": "[encoded data removed]",
      "text/plain": [
       "<matplotlib.figure.Figure at 0x7f75255b8978>"
      ]
     },
     "metadata": {},
     "output_type": "display_data"
    }
   ],
   "source": [
    "df['PctIlleg'].sample(n = 1800).hist(bins  = 50)"
   ]
  },
  {
   "cell_type": "markdown",
   "metadata": {},
   "source": [
    "# 1. Decision Tree\n",
    "-----------------\n",
    "Strarting witn decision tree"
   ]
  },
  {
   "cell_type": "code",
   "execution_count": 10,
   "metadata": {},
   "outputs": [
    {
     "data": {
      "text/plain": [
       "<matplotlib.axes._subplots.AxesSubplot at 0x7f7525479390>"
      ]
     },
     "execution_count": 10,
     "metadata": {},
     "output_type": "execute_result"
    },
    {
     "data": {
      "image/png": "[encoded data removed]",
      "text/plain": [
       "<matplotlib.figure.Figure at 0x7f75254d8940>"
      ]
     },
     "metadata": {},
     "output_type": "display_data"
    }
   ],
   "source": [
    "df.population.hist()"
   ]
  },
  {
   "cell_type": "code",
   "execution_count": 61,
   "metadata": {
    "collapsed": true
   },
   "outputs": [],
   "source": [
    "initial= df\n",
    "initial = initial.drop('communityname', 1).drop('ViolentCrimesPerPop', 1).drop('fold', 1).drop('state', 1).drop('highCrime',1)\n",
    "Y = df['highCrime']\n",
    "dtclf = tree.DecisionTreeClassifier(max_depth= 3)\n",
    "dtclf = dtclf.fit(initial, Y)"
   ]
  },
  {
   "cell_type": "code",
   "execution_count": 62,
   "metadata": {
    "collapsed": true
   },
   "outputs": [],
   "source": [
    "acc_scores = cross_val_score(dtclf, initial, Y, cv=10, scoring='accuracy').mean()\n",
    "pre_scores = cross_val_score(dtclf, initial, Y, cv=10, scoring='precision').mean()\n",
    "rec_scores = cross_val_score(dtclf, initial, Y, cv=10, scoring='recall').mean()"
   ]
  },
  {
   "cell_type": "code",
   "execution_count": 63,
   "metadata": {},
   "outputs": [
    {
     "name": "stdout",
     "output_type": "stream",
     "text": [
      "0.722\n",
      "0.784076712747\n",
      "0.7736\n"
     ]
    }
   ],
   "source": [
    "print(acc_scores);print(pre_scores);print(rec_scores);"
   ]
  },
  {
   "cell_type": "markdown",
   "metadata": {
    "collapsed": true
   },
   "source": [
    "# 2.Linear Classification\n",
    "---------"
   ]
  },
  {
   "cell_type": "markdown",
   "metadata": {},
   "source": [
    "a. GaussianNB:\n",
    "----"
   ]
  },
  {
   "cell_type": "markdown",
   "metadata": {},
   "source": [
    "### 2.i) 10 Fold CV:\n"
   ]
  },
  {
   "cell_type": "code",
   "execution_count": 14,
   "metadata": {},
   "outputs": [
    {
     "name": "stderr",
     "output_type": "stream",
     "text": [
      "/usr/local/lib/python3.4/dist-packages/sklearn/naive_bayes.py:427: RuntimeWarning: divide by zero encountered in log\n",
      "  jointi = np.log(self.class_prior_[i])\n",
      "/usr/local/lib/python3.4/dist-packages/sklearn/naive_bayes.py:427: RuntimeWarning: divide by zero encountered in log\n",
      "  jointi = np.log(self.class_prior_[i])\n",
      "/usr/local/lib/python3.4/dist-packages/sklearn/naive_bayes.py:427: RuntimeWarning: divide by zero encountered in log\n",
      "  jointi = np.log(self.class_prior_[i])\n",
      "/usr/local/lib/python3.4/dist-packages/sklearn/naive_bayes.py:427: RuntimeWarning: divide by zero encountered in log\n",
      "  jointi = np.log(self.class_prior_[i])\n",
      "/usr/local/lib/python3.4/dist-packages/sklearn/naive_bayes.py:427: RuntimeWarning: divide by zero encountered in log\n",
      "  jointi = np.log(self.class_prior_[i])\n",
      "/usr/local/lib/python3.4/dist-packages/sklearn/naive_bayes.py:427: RuntimeWarning: divide by zero encountered in log\n",
      "  jointi = np.log(self.class_prior_[i])\n",
      "/usr/local/lib/python3.4/dist-packages/sklearn/naive_bayes.py:427: RuntimeWarning: divide by zero encountered in log\n",
      "  jointi = np.log(self.class_prior_[i])\n",
      "/usr/local/lib/python3.4/dist-packages/sklearn/naive_bayes.py:427: RuntimeWarning: divide by zero encountered in log\n",
      "  jointi = np.log(self.class_prior_[i])\n",
      "/usr/local/lib/python3.4/dist-packages/sklearn/naive_bayes.py:427: RuntimeWarning: divide by zero encountered in log\n",
      "  jointi = np.log(self.class_prior_[i])\n",
      "/usr/local/lib/python3.4/dist-packages/sklearn/naive_bayes.py:427: RuntimeWarning: divide by zero encountered in log\n",
      "  jointi = np.log(self.class_prior_[i])\n",
      "/usr/local/lib/python3.4/dist-packages/sklearn/naive_bayes.py:427: RuntimeWarning: divide by zero encountered in log\n",
      "  jointi = np.log(self.class_prior_[i])\n",
      "/usr/local/lib/python3.4/dist-packages/sklearn/naive_bayes.py:427: RuntimeWarning: divide by zero encountered in log\n",
      "  jointi = np.log(self.class_prior_[i])\n",
      "/usr/local/lib/python3.4/dist-packages/sklearn/naive_bayes.py:427: RuntimeWarning: divide by zero encountered in log\n",
      "  jointi = np.log(self.class_prior_[i])\n",
      "/usr/local/lib/python3.4/dist-packages/sklearn/naive_bayes.py:427: RuntimeWarning: divide by zero encountered in log\n",
      "  jointi = np.log(self.class_prior_[i])\n",
      "/usr/local/lib/python3.4/dist-packages/sklearn/naive_bayes.py:427: RuntimeWarning: divide by zero encountered in log\n",
      "  jointi = np.log(self.class_prior_[i])\n",
      "/usr/local/lib/python3.4/dist-packages/sklearn/naive_bayes.py:427: RuntimeWarning: divide by zero encountered in log\n",
      "  jointi = np.log(self.class_prior_[i])\n",
      "/usr/local/lib/python3.4/dist-packages/sklearn/naive_bayes.py:427: RuntimeWarning: divide by zero encountered in log\n",
      "  jointi = np.log(self.class_prior_[i])\n",
      "/usr/local/lib/python3.4/dist-packages/sklearn/naive_bayes.py:427: RuntimeWarning: divide by zero encountered in log\n",
      "  jointi = np.log(self.class_prior_[i])\n",
      "/usr/local/lib/python3.4/dist-packages/sklearn/naive_bayes.py:427: RuntimeWarning: divide by zero encountered in log\n",
      "  jointi = np.log(self.class_prior_[i])\n",
      "/usr/local/lib/python3.4/dist-packages/sklearn/naive_bayes.py:427: RuntimeWarning: divide by zero encountered in log\n",
      "  jointi = np.log(self.class_prior_[i])\n",
      "/usr/local/lib/python3.4/dist-packages/sklearn/naive_bayes.py:427: RuntimeWarning: divide by zero encountered in log\n",
      "  jointi = np.log(self.class_prior_[i])\n"
     ]
    },
    {
     "name": "stdout",
     "output_type": "stream",
     "text": [
      "Accuracy is 0.627198492462\n",
      "Precision is 0.627198492462\n",
      "Recall is 1.0\n"
     ]
    },
    {
     "name": "stderr",
     "output_type": "stream",
     "text": [
      "/usr/local/lib/python3.4/dist-packages/sklearn/naive_bayes.py:427: RuntimeWarning: divide by zero encountered in log\n",
      "  jointi = np.log(self.class_prior_[i])\n",
      "/usr/local/lib/python3.4/dist-packages/sklearn/naive_bayes.py:427: RuntimeWarning: divide by zero encountered in log\n",
      "  jointi = np.log(self.class_prior_[i])\n",
      "/usr/local/lib/python3.4/dist-packages/sklearn/naive_bayes.py:427: RuntimeWarning: divide by zero encountered in log\n",
      "  jointi = np.log(self.class_prior_[i])\n",
      "/usr/local/lib/python3.4/dist-packages/sklearn/naive_bayes.py:427: RuntimeWarning: divide by zero encountered in log\n",
      "  jointi = np.log(self.class_prior_[i])\n",
      "/usr/local/lib/python3.4/dist-packages/sklearn/naive_bayes.py:427: RuntimeWarning: divide by zero encountered in log\n",
      "  jointi = np.log(self.class_prior_[i])\n",
      "/usr/local/lib/python3.4/dist-packages/sklearn/naive_bayes.py:427: RuntimeWarning: divide by zero encountered in log\n",
      "  jointi = np.log(self.class_prior_[i])\n",
      "/usr/local/lib/python3.4/dist-packages/sklearn/naive_bayes.py:427: RuntimeWarning: divide by zero encountered in log\n",
      "  jointi = np.log(self.class_prior_[i])\n",
      "/usr/local/lib/python3.4/dist-packages/sklearn/naive_bayes.py:427: RuntimeWarning: divide by zero encountered in log\n",
      "  jointi = np.log(self.class_prior_[i])\n",
      "/usr/local/lib/python3.4/dist-packages/sklearn/naive_bayes.py:427: RuntimeWarning: divide by zero encountered in log\n",
      "  jointi = np.log(self.class_prior_[i])\n"
     ]
    }
   ],
   "source": [
    "X = df.drop('ViolentCrimesPerPop',1).drop('highCrime',1).drop('communityname',1)\n",
    "y = df['highCrime']\n",
    "gnb = GaussianNB([0,1])\n",
    "acc_scores = cross_val_score(gnb, X, y, cv=10, scoring='accuracy').mean()\n",
    "pre_scores = cross_val_score(gnb, X, y, cv=10, scoring='precision').mean()\n",
    "rec_scores = cross_val_score(gnb, X, y, cv=10, scoring='recall').mean()\n",
    "\n",
    "\n",
    "print ('Accuracy is', acc_scores)\n",
    "print ('Precision is', pre_scores)\n",
    "print ('Recall is', rec_scores)"
   ]
  },
  {
   "cell_type": "markdown",
   "metadata": {},
   "source": [
    "### ii ) 10 most predictive features:"
   ]
  },
  {
   "cell_type": "markdown",
   "metadata": {},
   "source": [
    "#### Creating a dataframe with the response variable:"
   ]
  },
  {
   "cell_type": "code",
   "execution_count": 15,
   "metadata": {
    "collapsed": true
   },
   "outputs": [],
   "source": [
    "dfForPredictiveFeature = df.drop('communityname',1)\n",
    "dfForPredictiveFeature['highCrime'] = np.where(df['ViolentCrimesPerPop']>0.1, 1, 0)"
   ]
  },
  {
   "cell_type": "code",
   "execution_count": 16,
   "metadata": {
    "collapsed": true
   },
   "outputs": [],
   "source": [
    "count = 0\n",
    "dictPredFeat = {}\n",
    "for column in dfForPredictiveFeature:\n",
    "    meanTrue = dfForPredictiveFeature[dfForPredictiveFeature['highCrime'] == 1][column].mean()\n",
    "    meanFalse = dfForPredictiveFeature[dfForPredictiveFeature['highCrime'] == 0][column].mean()\n",
    "    varTrue = dfForPredictiveFeature[dfForPredictiveFeature['highCrime'] == 1][column].var()\n",
    "    varFalse = dfForPredictiveFeature[dfForPredictiveFeature['highCrime'] == 0][column].var()\n",
    "    if(column != 'highCrime'):\n",
    "        predScore = abs((meanTrue - meanFalse))/(varFalse+varTrue)\n",
    "        dictPredFeat[column] = predScore\n",
    "# print(sorted(dictPredFeat.items(), key=lambda x: x[1]))\n",
    "#     count = count+1"
   ]
  },
  {
   "cell_type": "markdown",
   "metadata": {},
   "source": [
    "#### sort and print the last 10 features:"
   ]
  },
  {
   "cell_type": "code",
   "execution_count": 17,
   "metadata": {},
   "outputs": [
    {
     "name": "stdout",
     "output_type": "stream",
     "text": [
      "('racePctWhite', 3.4402715072040073)\n",
      "('PctIlleg', 3.466925445469923)\n",
      "('PctYoungKids2Par', 3.644782922632504)\n",
      "('MalePctDivorce', 3.9465337329938555)\n",
      "('PctTeen2Par', 3.9954561774196335)\n",
      "('TotalPctDiv', 4.3812734118491115)\n",
      "('pctWInvInc', 4.390239171514135)\n",
      "('PctFam2Par', 4.5894616248835165)\n",
      "('FemalePctDiv', 4.751737777973133)\n",
      "('PctKids2Par', 4.996478183496772)\n"
     ]
    }
   ],
   "source": [
    "TopTenFeat = sorted(dictPredFeat.items(), key=lambda x: x[1])[-11:-1]\n",
    "for i in TopTenFeat:\n",
    "    print(i)\n",
    "# print(count)"
   ]
  },
  {
   "cell_type": "markdown",
   "metadata": {},
   "source": [
    "2.b) LinearSVC:\n",
    "    --------"
   ]
  },
  {
   "cell_type": "code",
   "execution_count": 18,
   "metadata": {},
   "outputs": [
    {
     "name": "stdout",
     "output_type": "stream",
     "text": [
      "Accuracy is 0.803788944724\n",
      "Precision is 0.855059999264\n",
      "Recall is 0.8432\n"
     ]
    }
   ],
   "source": [
    "from sklearn import svm\n",
    "svmclf = svm.SVC(kernel='linear', C =1.0)\n",
    "acc_scores = cross_val_score(svmclf, X, y, cv=10, scoring='accuracy').mean()\n",
    "pre_scores = cross_val_score(svmclf, X, y, cv=10, scoring='precision').mean()\n",
    "rec_scores = cross_val_score(svmclf, X, y, cv=10, scoring='recall').mean()\n",
    "\n",
    "print ('Accuracy is', acc_scores)\n",
    "print ('Precision is', pre_scores)\n",
    "print ('Recall is', rec_scores)"
   ]
  },
  {
   "cell_type": "markdown",
   "metadata": {},
   "source": [
    "#### 2.B) Absolute feature weights( ie the coefficients of the hyperplance vector)"
   ]
  },
  {
   "cell_type": "code",
   "execution_count": 19,
   "metadata": {},
   "outputs": [
    {
     "name": "stdout",
     "output_type": "stream",
     "text": [
      "(1, 102)\n",
      "[[ -9.03886586e-03   1.53019946e-02   1.01324468e+00  -6.81465561e-01\n",
      "    1.77366076e+00  -2.15004100e+00  -2.37875650e-01   6.65200014e-01\n",
      "    1.04751257e+00  -8.46030712e-01   1.68807572e-01   6.46796968e-01\n",
      "    6.94528369e-01   2.34577245e-01   1.07763706e-01  -5.03853638e-01\n",
      "    1.87909860e-01  -2.50327341e+00   7.36774653e-02  -2.39927516e-01\n",
      "    2.25437698e-01   1.22986118e-01   3.09621155e-01   3.49503457e-01\n",
      "    3.99953600e-02   6.94227406e-02  -2.52867159e-01   5.62902571e-01\n",
      "   -5.29207444e-01   7.47241951e-01  -1.39333010e-01  -2.75775408e-01\n",
      "    2.55841610e-01  -2.61281612e-01   7.91953091e-02   3.93537156e-01\n",
      "   -2.25345940e-01  -7.17816018e-01  -6.16798753e-01   8.42862020e-01\n",
      "    1.18774499e+00   3.08436131e-01   1.03967043e-01   6.96517597e-01\n",
      "   -1.09325001e-01  -1.42257275e+00  -2.03824150e+00  -8.06287127e-01\n",
      "    4.84733489e-01   1.50259597e-02   7.80791654e-02   4.61844395e-01\n",
      "    5.86233918e-01   8.23352501e-02   4.18656077e-01  -5.02358003e-01\n",
      "   -1.33661646e-01   6.81717777e-01  -1.83625748e-01   2.85221619e-01\n",
      "   -1.01378449e-01  -2.80567895e-01   4.69801746e-01   4.83599716e-01\n",
      "    4.97834996e-02  -1.56200819e-01   1.04001775e+00   4.66575899e-02\n",
      "    5.12947204e-01  -1.00515762e-01   4.56516472e-01   4.42720108e-01\n",
      "   -1.47632319e-01   7.81911596e-01  -4.03930188e-01   4.10337189e-01\n",
      "    1.48062962e-01  -5.40748509e-01  -8.98319207e-02  -4.99584812e-01\n",
      "   -4.87955059e-01  -3.73111658e-01   8.76625655e-02   3.82965300e-01\n",
      "   -4.49628353e-01  -1.28717131e-01   8.20849041e-01  -4.56574206e-01\n",
      "    7.28127159e-01   1.23357429e-01  -2.82791648e-01  -2.08305234e-01\n",
      "    3.27245520e-01  -1.10952007e-01   1.75718369e-03   4.62280558e-01\n",
      "    2.77614441e-01  -3.18852612e-01  -1.10320053e+00  -3.86491961e-02\n",
      "    1.99897925e-01   2.41084939e-01]]\n"
     ]
    }
   ],
   "source": [
    "svmclf.fit(X,y)\n",
    "print(svmclf.coef_.shape)\n",
    "print(svmclf.coef_)"
   ]
  },
  {
   "cell_type": "markdown",
   "metadata": {
    "collapsed": true
   },
   "source": [
    "# 3.Regression\n",
    "---------"
   ]
  },
  {
   "cell_type": "code",
   "execution_count": 20,
   "metadata": {
    "collapsed": true
   },
   "outputs": [],
   "source": [
    "Y = df['ViolentCrimesPerPop']"
   ]
  },
  {
   "cell_type": "code",
   "execution_count": 22,
   "metadata": {},
   "outputs": [],
   "source": [
    "initial= df\n",
    "initial = initial.drop('communityname', 1).drop('ViolentCrimesPerPop', 1).drop('fold', 1).drop('state', 1).drop('highCrime',1)\n",
    "Y = df['highCrime']\n",
    "scores = cross_val_score(lr_1, initial, Y,None,scoring='neg_mean_squared_error',cv=10)"
   ]
  },
  {
   "cell_type": "markdown",
   "metadata": {},
   "source": [
    "## 3.a)I\n",
    "----------------------------\n",
    "Using 10-fold cross-validation, what is the estimated mean-\n",
    "squared-error (MSE) of the model?"
   ]
  },
  {
   "cell_type": "code",
   "execution_count": 27,
   "metadata": {},
   "outputs": [
    {
     "data": {
      "text/plain": [
       "0.13111570033855097"
      ]
     },
     "execution_count": 27,
     "metadata": {},
     "output_type": "execute_result"
    }
   ],
   "source": [
    "np.abs(scores.mean())"
   ]
  },
  {
   "cell_type": "markdown",
   "metadata": {},
   "source": [
    "## 3.a)II\n",
    "--------------\n",
    "What is the MSE on the training set"
   ]
  },
  {
   "cell_type": "code",
   "execution_count": 24,
   "metadata": {},
   "outputs": [
    {
     "name": "stdout",
     "output_type": "stream",
     "text": [
      "Mean squared error: 0.12\n"
     ]
    }
   ],
   "source": [
    "lr_1.fit(initial,Y)\n",
    "print(\"Mean squared error: %.2f\"\n",
    "      % np.mean((lr_1.predict(initial) - Y) ** 2))"
   ]
  },
  {
   "cell_type": "markdown",
   "metadata": {},
   "source": [
    "## 3.a)III What features are most predictive of a high crime rate? A low\n",
    "crime rate?\n",
    "-----------------\n"
   ]
  },
  {
   "cell_type": "markdown",
   "metadata": {},
   "source": [
    "it’s easy to think that variables with larger coefficients are more important because they represent a larger change in the response. \n",
    "That's not always true.\n",
    "\n",
    "Since the features scale has been standardized, we can pick highest and lowest coefficent for the most predictive value."
   ]
  },
  {
   "cell_type": "code",
   "execution_count": 42,
   "metadata": {},
   "outputs": [
    {
     "name": "stdout",
     "output_type": "stream",
     "text": [
      "Coefficients: \n",
      " [ 0.18396339 -0.02231606  0.20493383 -0.04915604 -0.0144296   0.06087618\n",
      "  0.11035749 -0.22921784 -0.13016221  0.04974446 -0.29644254  0.04670138\n",
      " -0.19982858 -0.20157396  0.04875141 -0.1731211   0.0761747   0.00495907\n",
      " -0.09000184  0.28797887  0.09551562 -0.35101577 -0.02875531 -0.03571694\n",
      "  0.02164703  0.04380689  0.03572849  0.11115737 -0.17214385 -0.09991658\n",
      "  0.05254806  0.05038826  0.00454329  0.24847432 -0.06583291 -0.02673461\n",
      "  0.07234625  0.12263071  0.45851705  0.22672791  0.16273332 -0.56192431\n",
      " -0.14049326  0.01859592 -0.32265128 -0.03230383 -0.00294581  0.05915826\n",
      " -0.18611198 -0.13768061  0.1215016  -0.14411742  0.02206421  0.03594264\n",
      " -0.07777426  0.03363794 -0.02533207 -0.21822101  0.43251056 -0.18125139\n",
      " -0.02538104 -0.15180678  0.04530161 -0.19910488  0.63508812 -0.07049674\n",
      " -0.25457166 -0.67569448  0.21435256  0.1025989   0.03042671  0.15874822\n",
      " -0.04808195  0.56813321  0.04924214 -0.07892199 -0.02576789  0.00316608\n",
      " -0.01404768 -0.30817022  0.21287586  0.03018892 -0.23475152 -0.02701969\n",
      " -0.06363984  0.3727278   0.04220131 -0.04359464 -0.08083501  0.13749253\n",
      "  0.18289119  0.11749755  0.00629183 -0.0176126   0.02576627  0.01315744\n",
      "  0.02254266 -0.01262154 -0.04201141  0.02471578]\n"
     ]
    }
   ],
   "source": [
    "print('Coefficients: \\n', lr_1.coef_)\n",
    "ls_coef_lr1 = np.array(lr_1.coef_)\n",
    "max_feature = np.where(ls_coef_lr1 == ls_coef_lr1.max())"
   ]
  },
  {
   "cell_type": "markdown",
   "metadata": {},
   "source": [
    "Most predictive toward high crime is 'PersPerOccupHous'"
   ]
  },
  {
   "cell_type": "code",
   "execution_count": 43,
   "metadata": {},
   "outputs": [
    {
     "data": {
      "text/plain": [
       "'PersPerOccupHous'"
      ]
     },
     "execution_count": 43,
     "metadata": {},
     "output_type": "execute_result"
    }
   ],
   "source": [
    "initial.columns[np.argmax(ls_coef_lr1)]"
   ]
  },
  {
   "cell_type": "markdown",
   "metadata": {},
   "source": [
    "Most predictive toward low crime : 'PctPersOwnOccup'"
   ]
  },
  {
   "cell_type": "code",
   "execution_count": 44,
   "metadata": {},
   "outputs": [
    {
     "data": {
      "text/plain": [
       "'PctPersOwnOccup'"
      ]
     },
     "execution_count": 44,
     "metadata": {},
     "output_type": "execute_result"
    }
   ],
   "source": [
    "initial.columns[np.argmin(ls_coef_lr1)]"
   ]
  },
  {
   "cell_type": "markdown",
   "metadata": {},
   "source": [
    "Ridge Regression\n",
    "------------------"
   ]
  },
  {
   "cell_type": "code",
   "execution_count": 45,
   "metadata": {
    "collapsed": true
   },
   "outputs": [],
   "source": [
    "param_range = np.logspace(-1, 3, 10)\n",
    "train_scores, test_scores = validation_curve(\n",
    "    linear_model.Ridge (), initial, Y, param_name=\"alpha\", param_range=param_range,\n",
    "    cv=10, scoring=\"neg_mean_squared_error\", n_jobs=1)\n",
    "train_scores_mean = np.mean(train_scores, axis=1)\n",
    "train_scores_std = np.std(train_scores, axis=1)\n",
    "test_scores_mean = np.mean(test_scores, axis=1)\n",
    "test_scores_std = np.std(test_scores, axis=1)"
   ]
  },
  {
   "cell_type": "code",
   "execution_count": 46,
   "metadata": {},
   "outputs": [
    {
     "data": {
      "image/png": "[encoded data removed]",
      "text/plain": [
       "<matplotlib.figure.Figure at 0x7fbf44e20710>"
      ]
     },
     "metadata": {},
     "output_type": "display_data"
    }
   ],
   "source": [
    "plt.title(\"Validation Curve for tuning alpha\")\n",
    "plt.xlabel(\"Alpha\")\n",
    "plt.ylabel(\"MSE\")\n",
    "\n",
    "lw = 2\n",
    "plt.semilogx(param_range, train_scores_mean, label=\"Training score\",\n",
    "             color=\"darkorange\", lw=lw)\n",
    "plt.fill_between(param_range, train_scores_mean - train_scores_std,\n",
    "                 train_scores_mean + train_scores_std, alpha=0.2,\n",
    "                 color=\"darkorange\", lw=lw)\n",
    "plt.semilogx(param_range, test_scores_mean, label=\"Cross-validation score\",\n",
    "             color=\"navy\", lw=lw)\n",
    "plt.fill_between(param_range, test_scores_mean - test_scores_std,\n",
    "                 test_scores_mean + test_scores_std, alpha=0.2,\n",
    "                 color=\"navy\", lw=lw)\n",
    "plt.legend(loc=\"best\")\n",
    "plt.show()"
   ]
  },
  {
   "cell_type": "code",
   "execution_count": 42,
   "metadata": {
    "collapsed": true
   },
   "outputs": [],
   "source": [
    "lrr = linear_model.Ridge(alpha = 0.1)"
   ]
  },
  {
   "cell_type": "code",
   "execution_count": 43,
   "metadata": {},
   "outputs": [
    {
     "data": {
      "text/plain": [
       "Ridge(alpha=0.1, copy_X=True, fit_intercept=True, max_iter=None,\n",
       "   normalize=False, random_state=None, solver='auto', tol=0.001)"
      ]
     },
     "execution_count": 43,
     "metadata": {},
     "output_type": "execute_result"
    }
   ],
   "source": [
    "lrr.fit(initial,Y)"
   ]
  },
  {
   "cell_type": "code",
   "execution_count": 44,
   "metadata": {},
   "outputs": [
    {
     "name": "stdout",
     "output_type": "stream",
     "text": [
      "Mean squared error: 0.12\n"
     ]
    }
   ],
   "source": [
    "print(\"Mean squared error: %.2f\"\n",
    "      % np.mean((lrr.predict(initial) - Y) ** 2))"
   ]
  },
  {
   "cell_type": "markdown",
   "metadata": {},
   "source": [
    "polynomial features\n",
    "--------"
   ]
  },
  {
   "cell_type": "code",
   "execution_count": 45,
   "metadata": {
    "collapsed": true
   },
   "outputs": [],
   "source": [
    "poly = PolynomialFeatures(degree  = 2,interaction_only = True)\n",
    "poly_init = poly.fit_transform(initial)"
   ]
  },
  {
   "cell_type": "markdown",
   "metadata": {},
   "source": [
    "param_range = [2,3,4,5]\n",
    "train_scores, test_scores = validation_curve(\n",
    "    PolynomialFeatures(), initial, Y, param_name=\"degree\", param_range=param_range,\n",
    "    cv=10, scoring=\"neg_mean_squared_error\", n_jobs=1)"
   ]
  },
  {
   "cell_type": "markdown",
   "metadata": {
    "collapsed": true
   },
   "source": [
    "Crete polynomial feature"
   ]
  },
  {
   "cell_type": "code",
   "execution_count": 46,
   "metadata": {},
   "outputs": [
    {
     "data": {
      "text/plain": [
       "Ridge(alpha=0.1, copy_X=True, fit_intercept=True, max_iter=None,\n",
       "   normalize=False, random_state=None, solver='auto', tol=0.001)"
      ]
     },
     "execution_count": 46,
     "metadata": {},
     "output_type": "execute_result"
    }
   ],
   "source": [
    "lrr.fit(poly_init,Y)"
   ]
  },
  {
   "cell_type": "code",
   "execution_count": 47,
   "metadata": {},
   "outputs": [
    {
     "name": "stdout",
     "output_type": "stream",
     "text": [
      "Mean squared error: 0.03\n"
     ]
    }
   ],
   "source": [
    "print(\"Mean squared error: %.2f\"\n",
    "      % np.mean((lrr.predict(poly_init) - Y) ** 2))"
   ]
  },
  {
   "cell_type": "code",
   "execution_count": 48,
   "metadata": {
    "collapsed": true
   },
   "outputs": [],
   "source": [
    "df_poly = pd.DataFrame(poly_init)"
   ]
  },
  {
   "cell_type": "code",
   "execution_count": 49,
   "metadata": {},
   "outputs": [
    {
     "data": {
      "text/plain": [
       "(1993, 100)"
      ]
     },
     "execution_count": 49,
     "metadata": {},
     "output_type": "execute_result"
    }
   ],
   "source": [
    "initial.shape"
   ]
  },
  {
   "cell_type": "code",
   "execution_count": 50,
   "metadata": {},
   "outputs": [
    {
     "data": {
      "text/plain": [
       "(1993, 5051)"
      ]
     },
     "execution_count": 50,
     "metadata": {},
     "output_type": "execute_result"
    }
   ],
   "source": [
    "poly_init.shape"
   ]
  },
  {
   "cell_type": "code",
   "execution_count": 57,
   "metadata": {
    "scrolled": false
   },
   "outputs": [
    {
     "name": "stderr",
     "output_type": "stream",
     "text": [
      "/usr/local/lib/python3.4/dist-packages/sklearn/metrics/scorer.py:90: DeprecationWarning: Scoring method mean_squared_error was renamed to neg_mean_squared_error in version 0.18 and will be removed in 0.20.\n",
      "  sample_weight=sample_weight)\n",
      "/usr/local/lib/python3.4/dist-packages/sklearn/metrics/scorer.py:90: DeprecationWarning: Scoring method mean_squared_error was renamed to neg_mean_squared_error in version 0.18 and will be removed in 0.20.\n",
      "  sample_weight=sample_weight)\n",
      "/usr/local/lib/python3.4/dist-packages/sklearn/metrics/scorer.py:90: DeprecationWarning: Scoring method mean_squared_error was renamed to neg_mean_squared_error in version 0.18 and will be removed in 0.20.\n",
      "  sample_weight=sample_weight)\n",
      "/usr/local/lib/python3.4/dist-packages/sklearn/metrics/scorer.py:90: DeprecationWarning: Scoring method mean_squared_error was renamed to neg_mean_squared_error in version 0.18 and will be removed in 0.20.\n",
      "  sample_weight=sample_weight)\n",
      "/usr/local/lib/python3.4/dist-packages/sklearn/metrics/scorer.py:90: DeprecationWarning: Scoring method mean_squared_error was renamed to neg_mean_squared_error in version 0.18 and will be removed in 0.20.\n",
      "  sample_weight=sample_weight)\n",
      "/usr/local/lib/python3.4/dist-packages/sklearn/metrics/scorer.py:90: DeprecationWarning: Scoring method mean_squared_error was renamed to neg_mean_squared_error in version 0.18 and will be removed in 0.20.\n",
      "  sample_weight=sample_weight)\n",
      "/usr/local/lib/python3.4/dist-packages/sklearn/metrics/scorer.py:90: DeprecationWarning: Scoring method mean_squared_error was renamed to neg_mean_squared_error in version 0.18 and will be removed in 0.20.\n",
      "  sample_weight=sample_weight)\n",
      "/usr/local/lib/python3.4/dist-packages/sklearn/metrics/scorer.py:90: DeprecationWarning: Scoring method mean_squared_error was renamed to neg_mean_squared_error in version 0.18 and will be removed in 0.20.\n",
      "  sample_weight=sample_weight)\n",
      "/usr/local/lib/python3.4/dist-packages/sklearn/metrics/scorer.py:90: DeprecationWarning: Scoring method mean_squared_error was renamed to neg_mean_squared_error in version 0.18 and will be removed in 0.20.\n",
      "  sample_weight=sample_weight)\n",
      "/usr/local/lib/python3.4/dist-packages/sklearn/metrics/scorer.py:90: DeprecationWarning: Scoring method mean_squared_error was renamed to neg_mean_squared_error in version 0.18 and will be removed in 0.20.\n",
      "  sample_weight=sample_weight)\n"
     ]
    }
   ],
   "source": [
    "scores = cross_val_score(lr_1, poly_init, Y,None,scoring='mean_squared_error',cv=10,n_jobs = -1)"
   ]
  },
  {
   "cell_type": "code",
   "execution_count": 55,
   "metadata": {},
   "outputs": [
    {
     "data": {
      "text/plain": [
       "array([-0.99398953, -1.38322121, -1.40367924, -0.88322653, -0.77381705,\n",
       "       -1.58059651, -0.72971341, -0.79708488, -1.63312237, -0.976979  ])"
      ]
     },
     "execution_count": 55,
     "metadata": {},
     "output_type": "execute_result"
    }
   ],
   "source": [
    "scores"
   ]
  },
  {
   "cell_type": "code",
   "execution_count": 56,
   "metadata": {},
   "outputs": [
    {
     "name": "stdout",
     "output_type": "stream",
     "text": [
      "-1.11554297287\n"
     ]
    }
   ],
   "source": [
    "print(scores.mean())"
   ]
  },
  {
   "cell_type": "markdown",
   "metadata": {
    "collapsed": true
   },
   "source": [
    "# 4.Dirty Data\n",
    "---------"
   ]
  },
  {
   "cell_type": "code",
   "execution_count": 129,
   "metadata": {},
   "outputs": [
    {
     "data": {
      "text/plain": [
       "array(['LemasGangUnitDeploy', 'LemasPctPolicOnPatr', 'LemasSwFTFieldOps',\n",
       "       'LemasSwFTFieldPerPop', 'LemasSwFTPerPop', 'LemasSwornFT',\n",
       "       'LemasTotReqPerPop', 'LemasTotalReq', 'NumKindsDrugsSeiz',\n",
       "       'OfficAssgnDrugUnits', 'OtherPerCap', 'PctPolicAsian',\n",
       "       'PctPolicBlack', 'PctPolicHisp', 'PctPolicMinor', 'PctPolicWhite',\n",
       "       'PolicAveOTWorked', 'PolicBudgPerPop', 'PolicCars', 'PolicOperBudg',\n",
       "       'PolicPerPop', 'PolicReqPerOffic', 'RacialMatchCommPol',\n",
       "       'community', 'communityname', 'county'], dtype=object)"
      ]
     },
     "execution_count": 129,
     "metadata": {},
     "output_type": "execute_result"
    }
   ],
   "source": [
    "ls_col_desc_dfd = np.array(dfd.describe().columns)\n",
    "ls_col_head_dfd = np.array(dfd.head().columns)\n",
    "np.intersect1d(ls_col_desc_dfd,ls_col_head_dfd)\n",
    "np.setdiff1d(ls_col_head_dfd,ls_col_desc_dfd)# so diffent set :) so convinenance\n"
   ]
  },
  {
   "cell_type": "code",
   "execution_count": 130,
   "metadata": {
    "collapsed": true
   },
   "outputs": [],
   "source": [
    "dfd = pd.read_csv(dicPathDirty)"
   ]
  },
  {
   "cell_type": "markdown",
   "metadata": {},
   "source": [
    "There 2 Way to replace ? mark. 1. replace  2. appmap\n",
    "1."
   ]
  },
  {
   "cell_type": "code",
   "execution_count": 131,
   "metadata": {
    "collapsed": true
   },
   "outputs": [],
   "source": [
    "dfd_clean = dfd.replace('?',np.nan)"
   ]
  },
  {
   "cell_type": "code",
   "execution_count": 132,
   "metadata": {
    "collapsed": true
   },
   "outputs": [],
   "source": [
    "y_train = dfd.ViolentCrimesPerPop\n",
    "del dfd_clean['communityname']\n",
    "del dfd_clean['county']\n",
    "del dfd_clean['community']\n",
    "del dfd_clean['ViolentCrimesPerPop']"
   ]
  },
  {
   "cell_type": "code",
   "execution_count": 133,
   "metadata": {},
   "outputs": [
    {
     "data": {
      "text/plain": [
       "(1994, 124)"
      ]
     },
     "execution_count": 133,
     "metadata": {},
     "output_type": "execute_result"
    }
   ],
   "source": [
    "dfd_clean.shape"
   ]
  },
  {
   "cell_type": "code",
   "execution_count": 134,
   "metadata": {
    "collapsed": true
   },
   "outputs": [],
   "source": [
    "imputer = Imputer(missing_values=0,\n",
    "                                          strategy=\"mean\",\n",
    "                                          axis=0)"
   ]
  },
  {
   "cell_type": "code",
   "execution_count": 135,
   "metadata": {
    "collapsed": true
   },
   "outputs": [],
   "source": [
    "dfd_clean = imputer.fit_transform(dfd_clean)\n",
    "dfd_clean = pd.DataFrame(dfd_clean)"
   ]
  },
  {
   "cell_type": "code",
   "execution_count": 136,
   "metadata": {
    "collapsed": true
   },
   "outputs": [],
   "source": [
    "lr_1 = LinearRegression()\n",
    "scores = cross_val_score(lr_1, dfd_clean,y_train,None,scoring='neg_mean_squared_error',cv=10)"
   ]
  },
  {
   "cell_type": "code",
   "execution_count": 137,
   "metadata": {},
   "outputs": [
    {
     "data": {
      "text/plain": [
       "Index(['state', 'county', 'community', 'communityname', 'fold', 'population',\n",
       "       'householdsize', 'racepctblack', 'racePctWhite', 'racePctAsian',\n",
       "       ...\n",
       "       'LandArea', 'PopDens', 'PctUsePubTrans', 'PolicCars', 'PolicOperBudg',\n",
       "       'LemasPctPolicOnPatr', 'LemasGangUnitDeploy', 'LemasPctOfficDrugUn',\n",
       "       'PolicBudgPerPop', 'ViolentCrimesPerPop'],\n",
       "      dtype='object', length=128)"
      ]
     },
     "execution_count": 137,
     "metadata": {},
     "output_type": "execute_result"
    }
   ],
   "source": [
    "dfd.columns"
   ]
  },
  {
   "cell_type": "markdown",
   "metadata": {},
   "source": [
    "# 5. TEAM WORK\n",
    "---------"
   ]
  },
  {
   "cell_type": "markdown",
   "metadata": {},
   "source": [
    "## RadomForeset\n",
    "--------------------------"
   ]
  },
  {
   "cell_type": "code",
   "execution_count": 117,
   "metadata": {},
   "outputs": [
    {
     "data": {
      "image/png": "[encoded data removed]",
      "text/plain": [
       "<matplotlib.figure.Figure at 0x7fbf44f92f98>"
      ]
     },
     "metadata": {},
     "output_type": "display_data"
    }
   ],
   "source": [
    "plt.title(\"Validation Curve for tuning alpha\")\n",
    "plt.xlabel(\"Depth\")\n",
    "plt.ylabel(\"Accuracy\")\n",
    "\n",
    "lw = 2\n",
    "#plt.semilogx(param_range, train_scores_mean, label=\"Training score\",\n",
    "#             color=\"darkorange\", lw=lw)\n",
    "plt.plot(param_range,train_scores_mean,label=\"Training score\",color=\"darkorange\",lw=lw)\n",
    "plt.plot(param_range,test_scores_mean,label=\"Cross-validation score\",color=\"navy\",lw=lw)\n",
    "plt.fill_between(param_range, train_scores_mean - train_scores_std,\n",
    "                 train_scores_mean + train_scores_std, alpha=0.2,\n",
    "                 color=\"darkorange\", lw=lw)\n",
    "#plt.semilogx(param_range, test_scores_mean, label=\"Cross-validation score\",\n",
    "#             color=\"navy\", lw=lw)\n",
    "plt.fill_between(param_range, test_scores_mean - test_scores_std,\n",
    "                 test_scores_mean + test_scores_std, alpha=0.2,\n",
    "                 color=\"navy\", lw=lw)\n",
    "plt.legend(loc=\"best\")\n",
    "plt.show()"
   ]
  },
  {
   "cell_type": "code",
   "execution_count": 105,
   "metadata": {
    "collapsed": true
   },
   "outputs": [],
   "source": [
    "rf_clf = RandomForestClassifier(random_state=100, max_depth=3)\n",
    "\n",
    "acc_scores = cross_val_score(rf_clf, X, y, cv=10, scoring='accuracy').mean()\n",
    "pre_scores = cross_val_score(rf_clf, X, y, cv=10, scoring='precision').mean()\n",
    "rec_scores = cross_val_score(rf_clf, X, y, cv=10, scoring='recall').mean()"
   ]
  },
  {
   "cell_type": "code",
   "execution_count": 106,
   "metadata": {},
   "outputs": [
    {
     "name": "stdout",
     "output_type": "stream",
     "text": [
      "Accuracy is 0.795751256281\n",
      "Precision is 0.817422726438\n",
      "Recall is 0.8808\n"
     ]
    }
   ],
   "source": [
    "print ('Accuracy is', acc_scores)\n",
    "print ('Precision is', pre_scores)\n",
    "print ('Recall is', rec_scores)"
   ]
  },
  {
   "cell_type": "code",
   "execution_count": 109,
   "metadata": {
    "collapsed": true
   },
   "outputs": [],
   "source": [
    "param_range = range(1,10)\n",
    "train_scores, test_scores = validation_curve(\n",
    "    RandomForestClassifier(), X, y, param_name=\"max_depth\", param_range=param_range,\n",
    "    cv=10, scoring=\"accuracy\", n_jobs=1)\n",
    "train_scores_mean = np.mean(train_scores, axis=1)\n",
    "train_scores_std = np.std(train_scores, axis=1)\n",
    "test_scores_mean = np.mean(test_scores, axis=1)\n",
    "test_scores_std = np.std(test_scores, axis=1)"
   ]
  },
  {
   "cell_type": "markdown",
   "metadata": {},
   "source": [
    "## Nonlinear SVM\n",
    "---------------------"
   ]
  },
  {
   "cell_type": "markdown",
   "metadata": {},
   "source": [
    "Fine tuning Panelty coefficient => We pick C = 46"
   ]
  },
  {
   "cell_type": "code",
   "execution_count": 125,
   "metadata": {},
   "outputs": [
    {
     "data": {
      "image/png": "[encoded data removed]",
      "text/plain": [
       "<matplotlib.figure.Figure at 0x7fbf3fef8d30>"
      ]
     },
     "metadata": {},
     "output_type": "display_data"
    }
   ],
   "source": [
    "param_range = np.logspace(-1, 2, 10)\n",
    "train_scores, test_scores = validation_curve(\n",
    "    svm.SVC(kernel='poly'), initial, Y, param_name=\"C\", param_range=param_range,\n",
    "    cv=10, scoring=\"accuracy\", n_jobs=1)\n",
    "train_scores_mean = np.mean(train_scores, axis=1)\n",
    "train_scores_std = np.std(train_scores, axis=1)\n",
    "test_scores_mean = np.mean(test_scores, axis=1)\n",
    "test_scores_std = np.std(test_scores, axis=1)\n",
    "\n",
    "plt.title(\"Validation Curve for tuning alpha\")\n",
    "plt.xlabel(\"Alpha\")\n",
    "plt.ylabel(\"MSE\")\n",
    "\n",
    "lw = 2\n",
    "plt.semilogx(param_range, train_scores_mean, label=\"Training score\",\n",
    "             color=\"darkorange\", lw=lw)\n",
    "plt.fill_between(param_range, train_scores_mean - train_scores_std,\n",
    "                 train_scores_mean + train_scores_std, alpha=0.2,\n",
    "                 color=\"darkorange\", lw=lw)\n",
    "plt.semilogx(param_range, test_scores_mean, label=\"Cross-validation score\",\n",
    "             color=\"navy\", lw=lw)\n",
    "plt.fill_between(param_range, test_scores_mean - test_scores_std,\n",
    "                 test_scores_mean + test_scores_std, alpha=0.2,\n",
    "                 color=\"navy\", lw=lw)\n",
    "plt.legend(loc=\"best\")\n",
    "plt.show()"
   ]
  },
  {
   "cell_type": "code",
   "execution_count": 126,
   "metadata": {},
   "outputs": [
    {
     "data": {
      "text/plain": [
       "array([ 0.62719849,  0.62719849,  0.62719849,  0.69139698,  0.74406281,\n",
       "        0.77566332,  0.79523116,  0.80928894,  0.81932412,  0.81029397])"
      ]
     },
     "execution_count": 126,
     "metadata": {},
     "output_type": "execute_result"
    }
   ],
   "source": [
    "test_scores_mean"
   ]
  },
  {
   "cell_type": "code",
   "execution_count": 127,
   "metadata": {},
   "outputs": [
    {
     "data": {
      "text/plain": [
       "array([   0.1       ,    0.21544347,    0.46415888,    1.        ,\n",
       "          2.15443469,    4.64158883,   10.        ,   21.5443469 ,\n",
       "         46.41588834,  100.        ])"
      ]
     },
     "execution_count": 127,
     "metadata": {},
     "output_type": "execute_result"
    }
   ],
   "source": [
    "param_range"
   ]
  },
  {
   "cell_type": "code",
   "execution_count": 128,
   "metadata": {},
   "outputs": [
    {
     "name": "stdout",
     "output_type": "stream",
     "text": [
      "Accuracy is 0.740113065327\n",
      "Precision is 0.80606778382\n",
      "Recall is 0.7992\n"
     ]
    }
   ],
   "source": [
    "svmclf = svm.SVC(kernel='poly', C =46)\n",
    "acc_scores = cross_val_score(svmclf, X, y, cv=10, scoring='accuracy').mean()\n",
    "pre_scores = cross_val_score(svmclf, X, y, cv=10, scoring='precision').mean()\n",
    "rec_scores = cross_val_score(svmclf, X, y, cv=10, scoring='recall').mean()\n",
    "\n",
    "print ('Accuracy is', acc_scores)\n",
    "print ('Precision is', pre_scores)\n",
    "print ('Recall is', rec_scores)"
   ]
  },
  {
   "cell_type": "markdown",
   "metadata": {},
   "source": [
    "# Extra Credit: K-Means\n",
    "---------"
   ]
  },
  {
   "cell_type": "code",
   "execution_count": 138,
   "metadata": {},
   "outputs": [
    {
     "name": "stdout",
     "output_type": "stream",
     "text": [
      "Accuracy is 0.458286432161\n"
     ]
    }
   ],
   "source": [
    "from sklearn.cluster import KMeans\n",
    "kmClf = KMeans(n_clusters = 2)\n",
    "acc_scores = cross_val_score(kmClf, X, y, cv=10, scoring='accuracy').mean()\n",
    "\n",
    "print ('Accuracy is', acc_scores)\n"
   ]
  },
  {
   "cell_type": "markdown",
   "metadata": {
    "collapsed": true
   },
   "source": [
    "# Comparasion \n",
    "------------------------------\n",
    "\n",
    "\n",
    "## Classification\n",
    "----------------------------\n",
    "\n",
    "In Classification , we apply:\n",
    "a)Decision Tree\n",
    "b)Random forest\n",
    "c)LinearSVC\n",
    "d)Polynomial kernal SVM\n",
    "e)K-mean\n",
    "\n",
    "## Regession\n",
    "------------------------\n",
    "a)Linear Regression\n",
    "b)Polynomial Regression"
   ]
  },
  {
   "cell_type": "code",
   "execution_count": null,
   "metadata": {
    "collapsed": true
   },
   "outputs": [],
   "source": []
  }
 ],
 "metadata": {
  "anaconda-cloud": {},
  "kernelspec": {
   "display_name": "Python 3",
   "language": "python",
   "name": "python3"
  },
  "language_info": {
   "codemirror_mode": {
    "name": "ipython",
    "version": 3
   },
   "file_extension": ".py",
   "mimetype": "text/x-python",
   "name": "python",
   "nbconvert_exporter": "python",
   "pygments_lexer": "ipython3",
   "version": "3.4.3"
  }
 },
 "nbformat": 4,
 "nbformat_minor": 1
}
